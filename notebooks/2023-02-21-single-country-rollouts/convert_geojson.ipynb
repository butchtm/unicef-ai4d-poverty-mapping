{
 "cells": [
  {
   "cell_type": "raw",
   "id": "2f02bda2-fa0a-4bee-96b2-2bf529d69510",
   "metadata": {},
   "source": [
    "---\n",
    "title: Convert GEOJSON to CSVs\n",
    "format:\n",
    "  html:\n",
    "    code-fold: false\n",
    "---"
   ]
  },
  {
   "cell_type": "code",
   "execution_count": 1,
   "id": "b9fbdddb-ecc3-4512-ac54-d118086591c5",
   "metadata": {},
   "outputs": [],
   "source": [
    "import geopandas as gpd\n",
    "import pandas as pd"
   ]
  },
  {
   "cell_type": "code",
   "execution_count": 2,
   "id": "3418b50c-26fa-4682-9e32-9bb78c70651b",
   "metadata": {},
   "outputs": [],
   "source": [
    "rollout_gdf = gpd.read_file('rollout_output_tl.geojson')"
   ]
  },
  {
   "cell_type": "code",
   "execution_count": 4,
   "id": "706f1021-4765-4c04-b59d-dc4132aa5967",
   "metadata": {},
   "outputs": [
    {
     "data": {
      "text/plain": [
       "Index(['quadkey', 'shapeName', 'shapeISO', 'shapeID', 'shapeGroup',\n",
       "       'shapeType', 'pop_count', 'Predicted Relative Wealth Index',\n",
       "       'Predicted Wealth Category (quintile)',\n",
       "       'Predicted Wealth Category (split-quintile)', 'geometry'],\n",
       "      dtype='object')"
      ]
     },
     "execution_count": 4,
     "metadata": {},
     "output_type": "execute_result"
    }
   ],
   "source": [
    "rollout_gdf.columns"
   ]
  },
  {
   "cell_type": "code",
   "execution_count": 3,
   "id": "9181bf21-7edb-4a9d-aa73-6c26122b66af",
   "metadata": {},
   "outputs": [],
   "source": [
    "rollout_gdf.to_csv('rollout_output_tl.csv', index=False)"
   ]
  }
 ],
 "metadata": {
  "kernelspec": {
   "display_name": "Python 3 (ipykernel)",
   "language": "python",
   "name": "python3"
  },
  "language_info": {
   "codemirror_mode": {
    "name": "ipython",
    "version": 3
   },
   "file_extension": ".py",
   "mimetype": "text/x-python",
   "name": "python",
   "nbconvert_exporter": "python",
   "pygments_lexer": "ipython3",
   "version": "3.9.16"
  }
 },
 "nbformat": 4,
 "nbformat_minor": 5
}
