{
 "cells": [
  {
   "cell_type": "code",
   "execution_count": 1,
   "id": "c2b67124-951b-4675-bb47-76ef61578a89",
   "metadata": {
    "tags": []
   },
   "outputs": [],
   "source": [
    "%reload_ext autoreload\n",
    "%autoreload 2"
   ]
  },
  {
   "cell_type": "code",
   "execution_count": 2,
   "id": "e7964bd9-0f31-4a64-872a-612e0811b467",
   "metadata": {},
   "outputs": [],
   "source": [
    "from pathlib import Path"
   ]
  },
  {
   "cell_type": "code",
   "execution_count": 3,
   "id": "c3f9a246-e3d7-4f25-8f01-012bafd64a1f",
   "metadata": {},
   "outputs": [],
   "source": [
    "import pandas as pd\n",
    "import geopandas as gpd"
   ]
  },
  {
   "cell_type": "code",
   "execution_count": 4,
   "id": "98331472-4d60-4468-b8c9-767ffcb228b4",
   "metadata": {},
   "outputs": [],
   "source": [
    "import povertymapping.dhs_data_proc as pdhs"
   ]
  },
  {
   "cell_type": "code",
   "execution_count": 5,
   "id": "b84c38c4-ce4e-4ea0-8dfc-26013366724e",
   "metadata": {},
   "outputs": [],
   "source": [
    "dhs_config = dict(\n",
    "        save_path=\"../test_data/real_outputs/dhs_mm\",\n",
    "        repo_path=\"../data/SVII_PH_KH_MM_TL\",\n",
    "        data_dir=\"mm\",\n",
    "        dhs_folder=\"dhs_mm\",\n",
    "        dhs_zip_folder=\"MMHR71DT\",\n",
    "        dhs_file=\"MMHR71FL.DTA\",\n",
    "        country=\"mm\",\n",
    "        dhs_geo_zip_folder=\"MMGE71FL\",\n",
    "        dhs_geo_file=\"MMGE71FL.shp\",\n",
    "    )"
   ]
  },
  {
   "cell_type": "code",
   "execution_count": 6,
   "id": "13a81482-d738-494b-9a1b-6725373b7493",
   "metadata": {},
   "outputs": [],
   "source": [
    "!rm -rf {dhs_config['save_path']}"
   ]
  },
  {
   "cell_type": "code",
   "execution_count": 7,
   "id": "2b0e3f5f-f368-4377-88e8-712a6986a2dc",
   "metadata": {},
   "outputs": [
    {
     "name": "stdout",
     "output_type": "stream",
     "text": [
      "Data Dimensions: (12500, 2372)\n",
      "Data Dimensions: (441, 1)\n",
      "CPU times: user 49.6 s, sys: 977 ms, total: 50.5 s\n",
      "Wall time: 50.5 s\n"
     ]
    },
    {
     "name": "stderr",
     "output_type": "stream",
     "text": [
      "/home/butchtm/work/povmap/unicef-ai4d-poverty-mapping/env/lib/python3.9/site-packages/geopandas/io/file.py:362: FutureWarning: pandas.Int64Index is deprecated and will be removed from pandas in a future version. Use pandas.Index with the appropriate dtype instead.\n",
      "  pd.Int64Index,\n"
     ]
    }
   ],
   "source": [
    "%%time\n",
    "pdhs.process_dhs_data(dhs_config)"
   ]
  },
  {
   "cell_type": "code",
   "execution_count": 8,
   "id": "292b0cf9-eb7b-4db0-87c5-81671cba390d",
   "metadata": {},
   "outputs": [],
   "source": [
    "dhs_ph_base = pd.read_csv(Path(dhs_config['save_path'])/'MMHR71DT_base.csv')"
   ]
  },
  {
   "cell_type": "code",
   "execution_count": 9,
   "id": "da4b4f43-e8b3-4a9b-97a7-f6d0daf86b9a",
   "metadata": {},
   "outputs": [
    {
     "data": {
      "text/plain": [
       "12500"
      ]
     },
     "execution_count": 9,
     "metadata": {},
     "output_type": "execute_result"
    }
   ],
   "source": [
    "len(dhs_ph_base)"
   ]
  },
  {
   "cell_type": "code",
   "execution_count": 10,
   "id": "2e5701e4-da61-4540-ba14-236bbac99fe4",
   "metadata": {},
   "outputs": [
    {
     "name": "stdout",
     "output_type": "stream",
     "text": [
      "CPU times: user 109 ms, sys: 0 ns, total: 109 ms\n",
      "Wall time: 107 ms\n"
     ]
    }
   ],
   "source": [
    "%%time\n",
    "gdf = gpd.read_file(Path(dhs_config['save_path'])/'MMHR71DT_MMGE71FL_by_cluster.geojson')"
   ]
  },
  {
   "cell_type": "code",
   "execution_count": 11,
   "id": "50f744a3-23f0-4e8e-be38-97647f4e40ff",
   "metadata": {},
   "outputs": [
    {
     "data": {
      "text/plain": [
       "Index(['DHSCLUST', 'Wealth Index', 'DHSID', 'DHSCC', 'DHSYEAR', 'CCFIPS',\n",
       "       'ADM1FIPS', 'ADM1FIPSNA', 'ADM1SALBNA', 'ADM1SALBCO', 'ADM1DHS',\n",
       "       'ADM1NAME', 'DHSREGCO', 'DHSREGNA', 'SOURCE', 'URBAN_RURA', 'LATNUM',\n",
       "       'LONGNUM', 'ALT_GPS', 'ALT_DEM', 'DATUM', 'geometry'],\n",
       "      dtype='object')"
      ]
     },
     "execution_count": 11,
     "metadata": {},
     "output_type": "execute_result"
    }
   ],
   "source": [
    "gdf.columns"
   ]
  },
  {
   "cell_type": "code",
   "execution_count": 12,
   "id": "74b61057-de96-4c2b-ab03-1274e2ab0f19",
   "metadata": {},
   "outputs": [
    {
     "data": {
      "text/plain": [
       "<Geographic 2D CRS: EPSG:4326>\n",
       "Name: WGS 84\n",
       "Axis Info [ellipsoidal]:\n",
       "- Lat[north]: Geodetic latitude (degree)\n",
       "- Lon[east]: Geodetic longitude (degree)\n",
       "Area of Use:\n",
       "- name: World.\n",
       "- bounds: (-180.0, -90.0, 180.0, 90.0)\n",
       "Datum: World Geodetic System 1984 ensemble\n",
       "- Ellipsoid: WGS 84\n",
       "- Prime Meridian: Greenwich"
      ]
     },
     "execution_count": 12,
     "metadata": {},
     "output_type": "execute_result"
    }
   ],
   "source": [
    "gdf.crs"
   ]
  },
  {
   "cell_type": "code",
   "execution_count": 13,
   "id": "a2d3c035-3c8d-4924-8348-1727766f4fc0",
   "metadata": {},
   "outputs": [
    {
     "data": {
      "text/html": [
       "<div>\n",
       "<style scoped>\n",
       "    .dataframe tbody tr th:only-of-type {\n",
       "        vertical-align: middle;\n",
       "    }\n",
       "\n",
       "    .dataframe tbody tr th {\n",
       "        vertical-align: top;\n",
       "    }\n",
       "\n",
       "    .dataframe thead th {\n",
       "        text-align: right;\n",
       "    }\n",
       "</style>\n",
       "<table border=\"1\" class=\"dataframe\">\n",
       "  <thead>\n",
       "    <tr style=\"text-align: right;\">\n",
       "      <th></th>\n",
       "      <th>DHSCLUST</th>\n",
       "      <th>Wealth Index</th>\n",
       "      <th>DHSID</th>\n",
       "      <th>DHSCC</th>\n",
       "      <th>DHSYEAR</th>\n",
       "      <th>CCFIPS</th>\n",
       "      <th>ADM1FIPS</th>\n",
       "      <th>ADM1FIPSNA</th>\n",
       "      <th>ADM1SALBNA</th>\n",
       "      <th>ADM1SALBCO</th>\n",
       "      <th>...</th>\n",
       "      <th>DHSREGCO</th>\n",
       "      <th>DHSREGNA</th>\n",
       "      <th>SOURCE</th>\n",
       "      <th>URBAN_RURA</th>\n",
       "      <th>LATNUM</th>\n",
       "      <th>LONGNUM</th>\n",
       "      <th>ALT_GPS</th>\n",
       "      <th>ALT_DEM</th>\n",
       "      <th>DATUM</th>\n",
       "      <th>geometry</th>\n",
       "    </tr>\n",
       "  </thead>\n",
       "  <tbody>\n",
       "    <tr>\n",
       "      <th>0</th>\n",
       "      <td>1</td>\n",
       "      <td>-52232.000000</td>\n",
       "      <td>MM201500000001</td>\n",
       "      <td>MM</td>\n",
       "      <td>2015.0</td>\n",
       "      <td>BM</td>\n",
       "      <td>NULL</td>\n",
       "      <td>NULL</td>\n",
       "      <td>NULL</td>\n",
       "      <td>NULL</td>\n",
       "      <td>...</td>\n",
       "      <td>8.0</td>\n",
       "      <td>Magway</td>\n",
       "      <td>GPS</td>\n",
       "      <td>R</td>\n",
       "      <td>20.058637</td>\n",
       "      <td>95.360081</td>\n",
       "      <td>107.0</td>\n",
       "      <td>105.0</td>\n",
       "      <td>WGS84</td>\n",
       "      <td>POINT (95.36008 20.05864)</td>\n",
       "    </tr>\n",
       "    <tr>\n",
       "      <th>1</th>\n",
       "      <td>2</td>\n",
       "      <td>130773.724138</td>\n",
       "      <td>MM201500000002</td>\n",
       "      <td>MM</td>\n",
       "      <td>2015.0</td>\n",
       "      <td>BM</td>\n",
       "      <td>NULL</td>\n",
       "      <td>NULL</td>\n",
       "      <td>NULL</td>\n",
       "      <td>NULL</td>\n",
       "      <td>...</td>\n",
       "      <td>12.0</td>\n",
       "      <td>Yangon</td>\n",
       "      <td>GPS</td>\n",
       "      <td>U</td>\n",
       "      <td>17.112398</td>\n",
       "      <td>96.045616</td>\n",
       "      <td>31.0</td>\n",
       "      <td>14.0</td>\n",
       "      <td>WGS84</td>\n",
       "      <td>POINT (96.04562 17.11240)</td>\n",
       "    </tr>\n",
       "    <tr>\n",
       "      <th>2</th>\n",
       "      <td>3</td>\n",
       "      <td>-4955.000000</td>\n",
       "      <td>MM201500000003</td>\n",
       "      <td>MM</td>\n",
       "      <td>2015.0</td>\n",
       "      <td>BM</td>\n",
       "      <td>NULL</td>\n",
       "      <td>NULL</td>\n",
       "      <td>NULL</td>\n",
       "      <td>NULL</td>\n",
       "      <td>...</td>\n",
       "      <td>10.0</td>\n",
       "      <td>Mon</td>\n",
       "      <td>GPS</td>\n",
       "      <td>R</td>\n",
       "      <td>16.507664</td>\n",
       "      <td>97.364236</td>\n",
       "      <td>4.0</td>\n",
       "      <td>2.0</td>\n",
       "      <td>WGS84</td>\n",
       "      <td>POINT (97.36424 16.50766)</td>\n",
       "    </tr>\n",
       "    <tr>\n",
       "      <th>3</th>\n",
       "      <td>4</td>\n",
       "      <td>47824.103448</td>\n",
       "      <td>MM201500000004</td>\n",
       "      <td>MM</td>\n",
       "      <td>2015.0</td>\n",
       "      <td>BM</td>\n",
       "      <td>NULL</td>\n",
       "      <td>NULL</td>\n",
       "      <td>NULL</td>\n",
       "      <td>NULL</td>\n",
       "      <td>...</td>\n",
       "      <td>1.0</td>\n",
       "      <td>Kachin</td>\n",
       "      <td>GPS</td>\n",
       "      <td>U</td>\n",
       "      <td>26.684519</td>\n",
       "      <td>96.283879</td>\n",
       "      <td>193.0</td>\n",
       "      <td>210.0</td>\n",
       "      <td>WGS84</td>\n",
       "      <td>POINT (96.28388 26.68452)</td>\n",
       "    </tr>\n",
       "    <tr>\n",
       "      <th>4</th>\n",
       "      <td>5</td>\n",
       "      <td>9434.482759</td>\n",
       "      <td>MM201500000005</td>\n",
       "      <td>MM</td>\n",
       "      <td>2015.0</td>\n",
       "      <td>BM</td>\n",
       "      <td>NULL</td>\n",
       "      <td>NULL</td>\n",
       "      <td>NULL</td>\n",
       "      <td>NULL</td>\n",
       "      <td>...</td>\n",
       "      <td>12.0</td>\n",
       "      <td>Yangon</td>\n",
       "      <td>GPS</td>\n",
       "      <td>R</td>\n",
       "      <td>16.866059</td>\n",
       "      <td>96.053499</td>\n",
       "      <td>12.0</td>\n",
       "      <td>5.0</td>\n",
       "      <td>WGS84</td>\n",
       "      <td>POINT (96.05350 16.86606)</td>\n",
       "    </tr>\n",
       "  </tbody>\n",
       "</table>\n",
       "<p>5 rows × 22 columns</p>\n",
       "</div>"
      ],
      "text/plain": [
       "   DHSCLUST   Wealth Index           DHSID DHSCC  DHSYEAR CCFIPS ADM1FIPS  \\\n",
       "0         1  -52232.000000  MM201500000001    MM   2015.0     BM     NULL   \n",
       "1         2  130773.724138  MM201500000002    MM   2015.0     BM     NULL   \n",
       "2         3   -4955.000000  MM201500000003    MM   2015.0     BM     NULL   \n",
       "3         4   47824.103448  MM201500000004    MM   2015.0     BM     NULL   \n",
       "4         5    9434.482759  MM201500000005    MM   2015.0     BM     NULL   \n",
       "\n",
       "  ADM1FIPSNA ADM1SALBNA ADM1SALBCO  ...  DHSREGCO DHSREGNA  SOURCE URBAN_RURA  \\\n",
       "0       NULL       NULL       NULL  ...       8.0   Magway     GPS          R   \n",
       "1       NULL       NULL       NULL  ...      12.0   Yangon     GPS          U   \n",
       "2       NULL       NULL       NULL  ...      10.0      Mon     GPS          R   \n",
       "3       NULL       NULL       NULL  ...       1.0   Kachin     GPS          U   \n",
       "4       NULL       NULL       NULL  ...      12.0   Yangon     GPS          R   \n",
       "\n",
       "      LATNUM    LONGNUM  ALT_GPS  ALT_DEM  DATUM                   geometry  \n",
       "0  20.058637  95.360081    107.0    105.0  WGS84  POINT (95.36008 20.05864)  \n",
       "1  17.112398  96.045616     31.0     14.0  WGS84  POINT (96.04562 17.11240)  \n",
       "2  16.507664  97.364236      4.0      2.0  WGS84  POINT (97.36424 16.50766)  \n",
       "3  26.684519  96.283879    193.0    210.0  WGS84  POINT (96.28388 26.68452)  \n",
       "4  16.866059  96.053499     12.0      5.0  WGS84  POINT (96.05350 16.86606)  \n",
       "\n",
       "[5 rows x 22 columns]"
      ]
     },
     "execution_count": 13,
     "metadata": {},
     "output_type": "execute_result"
    }
   ],
   "source": [
    "gdf.head()"
   ]
  },
  {
   "cell_type": "code",
   "execution_count": 14,
   "id": "3b81e2b2-03e4-47a7-865d-b95de9ae269f",
   "metadata": {},
   "outputs": [],
   "source": [
    "import matplotlib.pyplot as plt"
   ]
  },
  {
   "cell_type": "code",
   "execution_count": 15,
   "id": "2883261c-60d5-4c86-9e3b-b46a647eca3f",
   "metadata": {},
   "outputs": [
    {
     "data": {
      "image/png": "[encoded data removed]",
      "text/plain": [
       "<Figure size 640x480 with 1 Axes>"
      ]
     },
     "metadata": {},
     "output_type": "display_data"
    }
   ],
   "source": [
    "# remove data where lat/long == 0.0\n",
    "ax = plt.axes()\n",
    "ax = gdf.plot(column='Wealth Index',ax=ax)"
   ]
  },
  {
   "cell_type": "code",
   "execution_count": null,
   "id": "3b40629c-f4a4-4ebb-be3a-3ad0c70114fd",
   "metadata": {},
   "outputs": [],
   "source": []
  }
 ],
 "metadata": {
  "kernelspec": {
   "display_name": "Python 3 (ipykernel)",
   "language": "python",
   "name": "python3"
  },
  "language_info": {
   "codemirror_mode": {
    "name": "ipython",
    "version": 3
   },
   "file_extension": ".py",
   "mimetype": "text/x-python",
   "name": "python",
   "nbconvert_exporter": "python",
   "pygments_lexer": "ipython3",
   "version": "3.9.13"
  }
 },
 "nbformat": 4,
 "nbformat_minor": 5
}
