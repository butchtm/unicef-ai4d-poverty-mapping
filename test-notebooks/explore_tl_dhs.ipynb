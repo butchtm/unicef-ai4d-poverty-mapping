{
 "cells": [
  {
   "cell_type": "code",
   "execution_count": 1,
   "id": "c2b67124-951b-4675-bb47-76ef61578a89",
   "metadata": {
    "tags": []
   },
   "outputs": [],
   "source": [
    "%reload_ext autoreload\n",
    "%autoreload 2"
   ]
  },
  {
   "cell_type": "code",
   "execution_count": 2,
   "id": "e7964bd9-0f31-4a64-872a-612e0811b467",
   "metadata": {},
   "outputs": [],
   "source": [
    "from pathlib import Path"
   ]
  },
  {
   "cell_type": "code",
   "execution_count": 3,
   "id": "c3f9a246-e3d7-4f25-8f01-012bafd64a1f",
   "metadata": {},
   "outputs": [],
   "source": [
    "import pandas as pd\n",
    "import geopandas as gpd"
   ]
  },
  {
   "cell_type": "code",
   "execution_count": 4,
   "id": "98331472-4d60-4468-b8c9-767ffcb228b4",
   "metadata": {},
   "outputs": [],
   "source": [
    "import povertymapping.dhs_data_proc as pdhs"
   ]
  },
  {
   "cell_type": "code",
   "execution_count": 5,
   "id": "b84c38c4-ce4e-4ea0-8dfc-26013366724e",
   "metadata": {},
   "outputs": [],
   "source": [
    "dhs_config = dict(\n",
    "        save_path=\"../test_data/real_outputs/dhs_tl\",\n",
    "        repo_path=\"../data/SVII_PH_KH_MM_TL\",\n",
    "        data_dir=\"tl\",\n",
    "        dhs_folder=\"dhs_tl\",\n",
    "        dhs_zip_folder=\"TLHR71DT\",\n",
    "        dhs_file=\"TLHR71FL.DTA\",\n",
    "        country=\"tl\",\n",
    "        dhs_geo_zip_folder=\"TLGE71FL\",\n",
    "        dhs_geo_file=\"TLGE71FL.shp\",\n",
    "    )"
   ]
  },
  {
   "cell_type": "code",
   "execution_count": 6,
   "id": "13a81482-d738-494b-9a1b-6725373b7493",
   "metadata": {},
   "outputs": [],
   "source": [
    "!rm -rf {dhs_config['save_path']}"
   ]
  },
  {
   "cell_type": "code",
   "execution_count": 7,
   "id": "2b0e3f5f-f368-4377-88e8-712a6986a2dc",
   "metadata": {},
   "outputs": [
    {
     "name": "stdout",
     "output_type": "stream",
     "text": [
      "Data Dimensions: (11502, 3658)\n",
      "Data Dimensions: (455, 1)\n",
      "CPU times: user 1min 34s, sys: 1.63 s, total: 1min 36s\n",
      "Wall time: 1min 36s\n"
     ]
    },
    {
     "name": "stderr",
     "output_type": "stream",
     "text": [
      "/home/butchtm/work/povmap/unicef-ai4d-poverty-mapping/env/lib/python3.9/site-packages/geopandas/io/file.py:362: FutureWarning: pandas.Int64Index is deprecated and will be removed from pandas in a future version. Use pandas.Index with the appropriate dtype instead.\n",
      "  pd.Int64Index,\n"
     ]
    }
   ],
   "source": [
    "%%time\n",
    "pdhs.process_dhs_data(dhs_config)"
   ]
  },
  {
   "cell_type": "code",
   "execution_count": 8,
   "id": "292b0cf9-eb7b-4db0-87c5-81671cba390d",
   "metadata": {},
   "outputs": [],
   "source": [
    "dhs_ph_base = pd.read_csv(Path(dhs_config['save_path'])/'TLHR71DT_base.csv')"
   ]
  },
  {
   "cell_type": "code",
   "execution_count": 9,
   "id": "da4b4f43-e8b3-4a9b-97a7-f6d0daf86b9a",
   "metadata": {},
   "outputs": [
    {
     "data": {
      "text/plain": [
       "11502"
      ]
     },
     "execution_count": 9,
     "metadata": {},
     "output_type": "execute_result"
    }
   ],
   "source": [
    "len(dhs_ph_base)"
   ]
  },
  {
   "cell_type": "code",
   "execution_count": 10,
   "id": "2e5701e4-da61-4540-ba14-236bbac99fe4",
   "metadata": {},
   "outputs": [
    {
     "name": "stdout",
     "output_type": "stream",
     "text": [
      "CPU times: user 58.2 ms, sys: 9.94 ms, total: 68.2 ms\n",
      "Wall time: 67.2 ms\n"
     ]
    }
   ],
   "source": [
    "%%time\n",
    "gdf = gpd.read_file(Path(dhs_config['save_path'])/'TLHR71DT_TLGE71FL_by_cluster.geojson')"
   ]
  },
  {
   "cell_type": "code",
   "execution_count": 11,
   "id": "50f744a3-23f0-4e8e-be38-97647f4e40ff",
   "metadata": {},
   "outputs": [
    {
     "data": {
      "text/plain": [
       "Index(['DHSCLUST', 'Wealth Index', 'DHSID', 'DHSCC', 'DHSYEAR', 'CCFIPS',\n",
       "       'ADM1FIPS', 'ADM1FIPSNA', 'ADM1SALBNA', 'ADM1SALBCO', 'ADM1DHS',\n",
       "       'ADM1NAME', 'DHSREGCO', 'DHSREGNA', 'SOURCE', 'URBAN_RURA', 'LATNUM',\n",
       "       'LONGNUM', 'ALT_GPS', 'ALT_DEM', 'DATUM', 'F21', 'F22', 'F23',\n",
       "       'geometry'],\n",
       "      dtype='object')"
      ]
     },
     "execution_count": 11,
     "metadata": {},
     "output_type": "execute_result"
    }
   ],
   "source": [
    "gdf.columns"
   ]
  },
  {
   "cell_type": "code",
   "execution_count": 12,
   "id": "74b61057-de96-4c2b-ab03-1274e2ab0f19",
   "metadata": {},
   "outputs": [
    {
     "data": {
      "text/plain": [
       "<Geographic 2D CRS: EPSG:4326>\n",
       "Name: WGS 84\n",
       "Axis Info [ellipsoidal]:\n",
       "- Lat[north]: Geodetic latitude (degree)\n",
       "- Lon[east]: Geodetic longitude (degree)\n",
       "Area of Use:\n",
       "- name: World.\n",
       "- bounds: (-180.0, -90.0, 180.0, 90.0)\n",
       "Datum: World Geodetic System 1984 ensemble\n",
       "- Ellipsoid: WGS 84\n",
       "- Prime Meridian: Greenwich"
      ]
     },
     "execution_count": 12,
     "metadata": {},
     "output_type": "execute_result"
    }
   ],
   "source": [
    "gdf.crs"
   ]
  },
  {
   "cell_type": "code",
   "execution_count": 13,
   "id": "a2d3c035-3c8d-4924-8348-1727766f4fc0",
   "metadata": {},
   "outputs": [
    {
     "data": {
      "text/html": [
       "<div>\n",
       "<style scoped>\n",
       "    .dataframe tbody tr th:only-of-type {\n",
       "        vertical-align: middle;\n",
       "    }\n",
       "\n",
       "    .dataframe tbody tr th {\n",
       "        vertical-align: top;\n",
       "    }\n",
       "\n",
       "    .dataframe thead th {\n",
       "        text-align: right;\n",
       "    }\n",
       "</style>\n",
       "<table border=\"1\" class=\"dataframe\">\n",
       "  <thead>\n",
       "    <tr style=\"text-align: right;\">\n",
       "      <th></th>\n",
       "      <th>DHSCLUST</th>\n",
       "      <th>Wealth Index</th>\n",
       "      <th>DHSID</th>\n",
       "      <th>DHSCC</th>\n",
       "      <th>DHSYEAR</th>\n",
       "      <th>CCFIPS</th>\n",
       "      <th>ADM1FIPS</th>\n",
       "      <th>ADM1FIPSNA</th>\n",
       "      <th>ADM1SALBNA</th>\n",
       "      <th>ADM1SALBCO</th>\n",
       "      <th>...</th>\n",
       "      <th>URBAN_RURA</th>\n",
       "      <th>LATNUM</th>\n",
       "      <th>LONGNUM</th>\n",
       "      <th>ALT_GPS</th>\n",
       "      <th>ALT_DEM</th>\n",
       "      <th>DATUM</th>\n",
       "      <th>F21</th>\n",
       "      <th>F22</th>\n",
       "      <th>F23</th>\n",
       "      <th>geometry</th>\n",
       "    </tr>\n",
       "  </thead>\n",
       "  <tbody>\n",
       "    <tr>\n",
       "      <th>0</th>\n",
       "      <td>1</td>\n",
       "      <td>32166.600000</td>\n",
       "      <td>TL201600000001</td>\n",
       "      <td>TL</td>\n",
       "      <td>2016.0</td>\n",
       "      <td>TT</td>\n",
       "      <td>NULL</td>\n",
       "      <td>NULL</td>\n",
       "      <td>NULL</td>\n",
       "      <td>NULL</td>\n",
       "      <td>...</td>\n",
       "      <td>R</td>\n",
       "      <td>-8.712016</td>\n",
       "      <td>125.567381</td>\n",
       "      <td>9999.0</td>\n",
       "      <td>1005.0</td>\n",
       "      <td>WGS84</td>\n",
       "      <td>None</td>\n",
       "      <td>None</td>\n",
       "      <td>None</td>\n",
       "      <td>POINT (125.56738 -8.71202)</td>\n",
       "    </tr>\n",
       "    <tr>\n",
       "      <th>1</th>\n",
       "      <td>2</td>\n",
       "      <td>-34063.923077</td>\n",
       "      <td>TL201600000002</td>\n",
       "      <td>TL</td>\n",
       "      <td>2016.0</td>\n",
       "      <td>TT</td>\n",
       "      <td>NULL</td>\n",
       "      <td>NULL</td>\n",
       "      <td>NULL</td>\n",
       "      <td>NULL</td>\n",
       "      <td>...</td>\n",
       "      <td>R</td>\n",
       "      <td>-8.730226</td>\n",
       "      <td>125.590219</td>\n",
       "      <td>9999.0</td>\n",
       "      <td>1342.0</td>\n",
       "      <td>WGS84</td>\n",
       "      <td>None</td>\n",
       "      <td>None</td>\n",
       "      <td>None</td>\n",
       "      <td>POINT (125.59022 -8.73023)</td>\n",
       "    </tr>\n",
       "    <tr>\n",
       "      <th>2</th>\n",
       "      <td>3</td>\n",
       "      <td>39230.590909</td>\n",
       "      <td>TL201600000003</td>\n",
       "      <td>TL</td>\n",
       "      <td>2016.0</td>\n",
       "      <td>TT</td>\n",
       "      <td>NULL</td>\n",
       "      <td>NULL</td>\n",
       "      <td>NULL</td>\n",
       "      <td>NULL</td>\n",
       "      <td>...</td>\n",
       "      <td>R</td>\n",
       "      <td>-8.741340</td>\n",
       "      <td>125.556399</td>\n",
       "      <td>9999.0</td>\n",
       "      <td>1060.0</td>\n",
       "      <td>WGS84</td>\n",
       "      <td>None</td>\n",
       "      <td>None</td>\n",
       "      <td>None</td>\n",
       "      <td>POINT (125.55640 -8.74134)</td>\n",
       "    </tr>\n",
       "    <tr>\n",
       "      <th>3</th>\n",
       "      <td>4</td>\n",
       "      <td>-82140.227273</td>\n",
       "      <td>TL201600000004</td>\n",
       "      <td>TL</td>\n",
       "      <td>2016.0</td>\n",
       "      <td>TT</td>\n",
       "      <td>NULL</td>\n",
       "      <td>NULL</td>\n",
       "      <td>NULL</td>\n",
       "      <td>NULL</td>\n",
       "      <td>...</td>\n",
       "      <td>R</td>\n",
       "      <td>-8.811291</td>\n",
       "      <td>125.535161</td>\n",
       "      <td>9999.0</td>\n",
       "      <td>1986.0</td>\n",
       "      <td>WGS84</td>\n",
       "      <td>None</td>\n",
       "      <td>None</td>\n",
       "      <td>None</td>\n",
       "      <td>POINT (125.53516 -8.81129)</td>\n",
       "    </tr>\n",
       "    <tr>\n",
       "      <th>4</th>\n",
       "      <td>5</td>\n",
       "      <td>-56203.423077</td>\n",
       "      <td>TL201600000005</td>\n",
       "      <td>TL</td>\n",
       "      <td>2016.0</td>\n",
       "      <td>TT</td>\n",
       "      <td>NULL</td>\n",
       "      <td>NULL</td>\n",
       "      <td>NULL</td>\n",
       "      <td>NULL</td>\n",
       "      <td>...</td>\n",
       "      <td>R</td>\n",
       "      <td>-8.791590</td>\n",
       "      <td>125.473219</td>\n",
       "      <td>9999.0</td>\n",
       "      <td>1491.0</td>\n",
       "      <td>WGS84</td>\n",
       "      <td>None</td>\n",
       "      <td>None</td>\n",
       "      <td>None</td>\n",
       "      <td>POINT (125.47322 -8.79159)</td>\n",
       "    </tr>\n",
       "  </tbody>\n",
       "</table>\n",
       "<p>5 rows × 25 columns</p>\n",
       "</div>"
      ],
      "text/plain": [
       "   DHSCLUST  Wealth Index           DHSID DHSCC  DHSYEAR CCFIPS ADM1FIPS  \\\n",
       "0         1  32166.600000  TL201600000001    TL   2016.0     TT     NULL   \n",
       "1         2 -34063.923077  TL201600000002    TL   2016.0     TT     NULL   \n",
       "2         3  39230.590909  TL201600000003    TL   2016.0     TT     NULL   \n",
       "3         4 -82140.227273  TL201600000004    TL   2016.0     TT     NULL   \n",
       "4         5 -56203.423077  TL201600000005    TL   2016.0     TT     NULL   \n",
       "\n",
       "  ADM1FIPSNA ADM1SALBNA ADM1SALBCO  ...  URBAN_RURA    LATNUM     LONGNUM  \\\n",
       "0       NULL       NULL       NULL  ...           R -8.712016  125.567381   \n",
       "1       NULL       NULL       NULL  ...           R -8.730226  125.590219   \n",
       "2       NULL       NULL       NULL  ...           R -8.741340  125.556399   \n",
       "3       NULL       NULL       NULL  ...           R -8.811291  125.535161   \n",
       "4       NULL       NULL       NULL  ...           R -8.791590  125.473219   \n",
       "\n",
       "  ALT_GPS ALT_DEM  DATUM   F21   F22   F23                    geometry  \n",
       "0  9999.0  1005.0  WGS84  None  None  None  POINT (125.56738 -8.71202)  \n",
       "1  9999.0  1342.0  WGS84  None  None  None  POINT (125.59022 -8.73023)  \n",
       "2  9999.0  1060.0  WGS84  None  None  None  POINT (125.55640 -8.74134)  \n",
       "3  9999.0  1986.0  WGS84  None  None  None  POINT (125.53516 -8.81129)  \n",
       "4  9999.0  1491.0  WGS84  None  None  None  POINT (125.47322 -8.79159)  \n",
       "\n",
       "[5 rows x 25 columns]"
      ]
     },
     "execution_count": 13,
     "metadata": {},
     "output_type": "execute_result"
    }
   ],
   "source": [
    "gdf.head()"
   ]
  },
  {
   "cell_type": "code",
   "execution_count": 14,
   "id": "3b81e2b2-03e4-47a7-865d-b95de9ae269f",
   "metadata": {},
   "outputs": [],
   "source": [
    "import matplotlib.pyplot as plt"
   ]
  },
  {
   "cell_type": "code",
   "execution_count": 18,
   "id": "2883261c-60d5-4c86-9e3b-b46a647eca3f",
   "metadata": {},
   "outputs": [
    {
     "data": {
      "image/png": "[encoded data removed]",
      "text/plain": [
       "<Figure size 640x480 with 1 Axes>"
      ]
     },
     "metadata": {},
     "output_type": "display_data"
    }
   ],
   "source": [
    "# remove data where lat/long == 0.0\n",
    "ax = plt.axes()\n",
    "ax = gdf.plot(column='Wealth Index',ax=ax)"
   ]
  },
  {
   "cell_type": "code",
   "execution_count": null,
   "id": "3b40629c-f4a4-4ebb-be3a-3ad0c70114fd",
   "metadata": {},
   "outputs": [],
   "source": []
  }
 ],
 "metadata": {
  "kernelspec": {
   "display_name": "Python 3 (ipykernel)",
   "language": "python",
   "name": "python3"
  },
  "language_info": {
   "codemirror_mode": {
    "name": "ipython",
    "version": 3
   },
   "file_extension": ".py",
   "mimetype": "text/x-python",
   "name": "python",
   "nbconvert_exporter": "python",
   "pygments_lexer": "ipython3",
   "version": "3.9.13"
  }
 },
 "nbformat": 4,
 "nbformat_minor": 5
}
