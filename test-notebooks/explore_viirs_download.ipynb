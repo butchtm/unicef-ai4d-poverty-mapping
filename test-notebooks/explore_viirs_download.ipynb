{
 "cells": [
  {
   "cell_type": "markdown",
   "id": "1dffcf52-4dd9-4e8f-be96-1166faa6ab0c",
   "metadata": {},
   "source": [
    "## EOG Programmatic Access\n",
    "* ntlights metadata:  https://eogdata.mines.edu/products/vnl/\n",
    "* directory url:  https://eogdata.mines.edu/nighttime_light/annual/v21/\n",
    "* sample link (size 9.7GB):  https://eogdata.mines.edu/nighttime_light/annual/v21/2014/VNL_v21_npp_2014_global_vcmslcfg_c202205302300.average.dat.tif.gz\n",
    "* sample mask link (size 267 MB): https://eogdata.mines.edu/nighttime_light/annual/v21/2014/VNL_v21_npp_2014_global_vcmslcfg_c202205302300.average_masked.dat.tif.gz"
   ]
  },
  {
   "cell_type": "code",
   "execution_count": 1,
   "id": "cd06cef8-b0a1-4cc9-813d-b7ee3a37165e",
   "metadata": {},
   "outputs": [],
   "source": [
    "import requests\n",
    "import json\n",
    "import os"
   ]
  },
  {
   "cell_type": "code",
   "execution_count": 2,
   "id": "bbf298f5-a19e-41b8-ae83-c57bd34c53d2",
   "metadata": {},
   "outputs": [],
   "source": [
    "import getpass"
   ]
  },
  {
   "cell_type": "code",
   "execution_count": 4,
   "id": "88f6ad15-0e8f-475d-ba72-37a366c09baf",
   "metadata": {},
   "outputs": [
    {
     "name": "stdin",
     "output_type": "stream",
     "text": [
      "Username? butch@thinkingmachin.es\n"
     ]
    }
   ],
   "source": [
    "username = input('Username?')"
   ]
  },
  {
   "cell_type": "code",
   "execution_count": 5,
   "id": "50ce2606-6b13-49a7-8506-434ba756fab9",
   "metadata": {},
   "outputs": [
    {
     "name": "stdin",
     "output_type": "stream",
     "text": [
      "Password? ········\n"
     ]
    }
   ],
   "source": [
    "password = getpass.getpass('Password?') "
   ]
  },
  {
   "cell_type": "code",
   "execution_count": 7,
   "id": "0614874b-1370-47e4-b898-bb3bd10f95b3",
   "metadata": {},
   "outputs": [],
   "source": [
    "# Retrieve access token\n",
    "params = {    \n",
    "    'client_id': 'eogdata_oidc',\n",
    "    'client_secret': '2677ad81-521b-4869-8480-6d05b9e57d48',\n",
    "    'username': username,\n",
    "    'password': password,\n",
    "    'grant_type': 'password'\n",
    "}"
   ]
  },
  {
   "cell_type": "code",
   "execution_count": 8,
   "id": "b863a0f1-4f25-42e2-85ad-4349352f86ea",
   "metadata": {},
   "outputs": [],
   "source": [
    "token_url = 'https://eogauth.mines.edu/auth/realms/master/protocol/openid-connect/token'"
   ]
  },
  {
   "cell_type": "code",
   "execution_count": 9,
   "id": "3e14480a-d615-48d9-a5e9-c7c0ac7eba13",
   "metadata": {},
   "outputs": [],
   "source": [
    "response = requests.post(token_url, data = params)"
   ]
  },
  {
   "cell_type": "code",
   "execution_count": 10,
   "id": "668f16f5-cbb5-41b4-8a11-8c51ac94fbca",
   "metadata": {},
   "outputs": [],
   "source": [
    "access_token_dict = json.loads(response.text)"
   ]
  },
  {
   "cell_type": "code",
   "execution_count": 12,
   "id": "22939de8-277e-4091-ad14-62e3454e5239",
   "metadata": {},
   "outputs": [],
   "source": [
    "access_token = access_token_dict.get('access_token')"
   ]
  },
  {
   "cell_type": "code",
   "execution_count": 14,
   "id": "08bfe847-86b0-47d5-8c40-78a051db9fa4",
   "metadata": {},
   "outputs": [],
   "source": [
    "# Submit request with token bearer\n",
    "## Change data_url variable to the file you want to download\n",
    "data_url = 'https://eogdata.mines.edu/eog/EOG_sensitive_contents'"
   ]
  },
  {
   "cell_type": "code",
   "execution_count": 15,
   "id": "a4271da3-8f61-4492-b161-0a1f7ffdae8f",
   "metadata": {},
   "outputs": [],
   "source": [
    "auth = 'Bearer ' + access_token\n",
    "headers = {'Authorization' : auth}"
   ]
  },
  {
   "cell_type": "code",
   "execution_count": 16,
   "id": "ea649aa8-15d2-45cb-a2b1-58e26cadc8db",
   "metadata": {},
   "outputs": [],
   "source": [
    "response = requests.get(data_url, headers = headers)\n",
    "# Write response to output file\n",
    "## You can either define the output file name directly\n",
    "# output_file = 'EOG_sensitive_contents.txt'\n",
    "## Or get the filename from the data_url variable"
   ]
  },
  {
   "cell_type": "code",
   "execution_count": 19,
   "id": "a764f4ea-f366-4940-b464-c2c17507d309",
   "metadata": {},
   "outputs": [],
   "source": [
    "from pprint import pprint"
   ]
  },
  {
   "cell_type": "code",
   "execution_count": 21,
   "id": "537b4b0a-c022-49de-bb39-a253fc4c534c",
   "metadata": {},
   "outputs": [],
   "source": [
    "contents = response.content"
   ]
  },
  {
   "cell_type": "code",
   "execution_count": 22,
   "id": "c4052100-21e3-45bf-9201-58564018ae5e",
   "metadata": {},
   "outputs": [
    {
     "data": {
      "text/plain": [
       "1250"
      ]
     },
     "execution_count": 22,
     "metadata": {},
     "output_type": "execute_result"
    }
   ],
   "source": [
    "len(contents)"
   ]
  },
  {
   "cell_type": "code",
   "execution_count": 24,
   "id": "3f2d6f7a-20ab-4cab-bac5-898b7c535234",
   "metadata": {},
   "outputs": [
    {
     "name": "stdout",
     "output_type": "stream",
     "text": [
      " ====  Welcome to EOG Data Distribution!!  =====\n",
      "\n",
      "WWWWWWWWWWWWWWWWWWNNMBBBBBBBMNNWWWWWWWWWWWWWWWWWW\n",
      "WWWWWWWWWWWWWNM&&ggggggggggggggg0&MNWWWWWWWWWWWWW\n",
      "WWWWWWWWWWNB0ggggggggggg$a$ggggggggg0BNWWWWWWWWWW\n",
      "WWWWWWWWM&gggggggggggggPr^=jamggSZ98ggg&MWWWWWWWW\n",
      "WWWWWWB0ggggggggggggggQw7\\^^^>o}F#Zvqgggg0BWWWWWW\n",
      "WWWWN&gggggggggggggggggggdo)*r}#gg2Lbgggggg&NWWWW\n",
      "WWWN0ggggggggggggggggggggggQZvFRQc*JoHgggggg0NWWW\n",
      "WWN0ggggggggggggggggggggkc*>rr>xjL|^^\\72Dgggg0NWW\n",
      "WN0gggggggggggggggggggggUur^- ,Jgmac=^^>aggggg0NW\n",
      "WBggg8RHqSUUSpH$Qggggggg5iwic~;JggggR%udgggggggBW\n",
      "W0gSkkEUSSppSU6kPPaPU$gg$j?ag$P$ggggggggggggggg&W\n",
      "N0Q$QDggggggggduywUdSPZaSQggggggggggggggggggggg0N\n",
      "N0$)rrsggggggUyrrr>rviwHqZ2SQgggggggggggggggggg0N\n",
      "W0gk?>}DgggDEs)>r>>>>>>iQgmkIUggggggggggggggggg&W\n",
      "WBgRc>ogg$yv>Lk5y>>>rruRdy$gma%RgggggggggggggggBW\n",
      "WN0mj>*FZ7>>>>**rr*r>omgF)wSggHFSggggggggggggg&WW\n",
      "WWN0$J>>>>>>>>>>>xS2rrvi}VRggggQ2qggggggggggg0NWW\n",
      "WWWN0$ir>>>>>>>>>}u2yU8QggggggggQodggggggggg&NWWW\n",
      "WWWWN&Q2v>>>>>>>>>rFQQQbqgggq5HggUFQggggggg&WWWWW\n",
      "WWWWWWM0Rl*rr>>>r}5pI?visPDdIF2$gQFSggggg0MWWWWWW\n",
      "WWWWWWWWN&g9u)r>>v%P%eFxLr7zFF$ggg5Pgg0&NWWWWWWWW\n",
      "WWWWWWWWWWNM&QUIiPgggggQPoP2oFmggggg&BNWWWWWWWWWW\n",
      "WWWWWWWWWWWWWWNB&0ggggggggggggg0&BNWWWWWWWWWWWWWW\n",
      "WWWWWWWWWWWWWWWWWWNNNMMBBBMMNNNWWWWWWWWWWWWWWWWWW\n",
      "\n"
     ]
    }
   ],
   "source": [
    "print(str(contents,'utf-8'))"
   ]
  },
  {
   "cell_type": "code",
   "execution_count": 12,
   "id": "3817717b-ff3d-4412-b926-88ace0076afa",
   "metadata": {},
   "outputs": [],
   "source": [
    "# Retrieve access token\n",
    "def get_eog_access_token(username, password):\n",
    "    params = {    \n",
    "        'client_id': 'eogdata_oidc',\n",
    "        'client_secret': '2677ad81-521b-4869-8480-6d05b9e57d48',\n",
    "        'username': username,\n",
    "        'password': password,\n",
    "        'grant_type': 'password'\n",
    "    }\n",
    "    token_url = 'https://eogauth.mines.edu/auth/realms/master/protocol/openid-connect/token'\n",
    "    response = requests.post(token_url, data = params)\n",
    "    access_token_dict = json.loads(response.text)\n",
    "    access_token = access_token_dict.get('access_token')\n",
    "    return access_token"
   ]
  },
  {
   "cell_type": "code",
   "execution_count": 26,
   "id": "2b02035c-d924-4fc8-a14c-6b7bcb2a3397",
   "metadata": {},
   "outputs": [],
   "source": [
    "def download_eog_file(url, access_token, chunk_size=8192, local_filename = None):\n",
    "    # see https://stackoverflow.com/questions/16694907/download-large-file-in-python-with-requests\n",
    "    auth = 'Bearer ' + access_token\n",
    "    headers = {'Authorization' : auth}\n",
    "    local_filename = url.split('/')[-1] if local_filename is None else local_filename\n",
    "    # NOTE the stream=True parameter below\n",
    "    with requests.get(url, stream=True, headers=headers) as r:\n",
    "        r.raise_for_status()\n",
    "        with open(local_filename, 'wb') as f:\n",
    "            for chunk in r.iter_content(chunk_size=chunk_size): \n",
    "                # If you have chunk encoded response uncomment if\n",
    "                # and set chunk_size parameter to None.\n",
    "                #if chunk: \n",
    "                f.write(chunk)\n",
    "    return local_filename "
   ]
  },
  {
   "cell_type": "code",
   "execution_count": 27,
   "id": "227408f1-0755-4f4e-b932-2b3039091a29",
   "metadata": {},
   "outputs": [
    {
     "data": {
      "text/plain": [
       "'EOG_sensitive_contents'"
      ]
     },
     "execution_count": 27,
     "metadata": {},
     "output_type": "execute_result"
    }
   ],
   "source": [
    "download_file(data_url,access_token)"
   ]
  },
  {
   "cell_type": "code",
   "execution_count": 28,
   "id": "4b1a4a1c-8943-4a32-99c2-552da914eeca",
   "metadata": {
    "tags": []
   },
   "outputs": [],
   "source": [
    "masked_tif = 'https://eogdata.mines.edu/nighttime_light/annual/v21/2014/VNL_v21_npp_2014_global_vcmslcfg_c202205302300.average_masked.dat.tif.gz'"
   ]
  },
  {
   "cell_type": "code",
   "execution_count": 31,
   "id": "fb13064e-4fca-4529-b7e8-7edeef03f08a",
   "metadata": {},
   "outputs": [
    {
     "name": "stdout",
     "output_type": "stream",
     "text": [
      "CPU times: user 4.85 s, sys: 3.87 s, total: 8.73 s\n",
      "Wall time: 9min 43s\n"
     ]
    },
    {
     "data": {
      "text/plain": [
       "'VNL_v21_npp_2014_global_vcmslcfg_c202205302300.average_masked.dat.tif.gz'"
      ]
     },
     "execution_count": 31,
     "metadata": {},
     "output_type": "execute_result"
    }
   ],
   "source": [
    "%%time\n",
    "download_file(masked_tif,access_token, chunk_size=8192*1024*10)"
   ]
  },
  {
   "cell_type": "code",
   "execution_count": null,
   "id": "f6c207dd-f6dc-4de9-aaea-5329a5d176cc",
   "metadata": {},
   "outputs": [],
   "source": [
    "# output_file = os.path.basename(data_url)\n",
    "\n",
    "# with open(output_file,'wb') as f:\n",
    "#     f.write(response.content)"
   ]
  },
  {
   "cell_type": "code",
   "execution_count": 33,
   "id": "cae3184d-6379-4388-ba4f-aa4ff44a55e2",
   "metadata": {},
   "outputs": [
    {
     "data": {
      "text/plain": [
       "362.714606741573"
      ]
     },
     "execution_count": 33,
     "metadata": {},
     "output_type": "execute_result"
    }
   ],
   "source": [
    "(9.7 * 1024)/(267)  * 9.75 # appx 10min for 267MB equals how many minutes for 9.7GB (chunksize of 80MB)"
   ]
  },
  {
   "cell_type": "code",
   "execution_count": 34,
   "id": "7da73008-8a9d-4ef4-8d8c-a3b71d586a7c",
   "metadata": {},
   "outputs": [
    {
     "data": {
      "text/plain": [
       "6.045166666666666"
      ]
     },
     "execution_count": 34,
     "metadata": {},
     "output_type": "execute_result"
    }
   ],
   "source": [
    "362.71 / 60 # hours"
   ]
  },
  {
   "cell_type": "code",
   "execution_count": null,
   "id": "bdbb4a68-f49f-406c-9777-37d6988e101f",
   "metadata": {},
   "outputs": [],
   "source": []
  }
 ],
 "metadata": {
  "kernelspec": {
   "display_name": "Python 3 (ipykernel)",
   "language": "python",
   "name": "python3"
  },
  "language_info": {
   "codemirror_mode": {
    "name": "ipython",
    "version": 3
   },
   "file_extension": ".py",
   "mimetype": "text/x-python",
   "name": "python",
   "nbconvert_exporter": "python",
   "pygments_lexer": "ipython3",
   "version": "3.9.13"
  }
 },
 "nbformat": 4,
 "nbformat_minor": 5
}
