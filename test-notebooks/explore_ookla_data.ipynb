{
 "cells": [
  {
   "cell_type": "raw",
   "id": "ede0e4f6-bbe4-485c-be4c-47e9f083349e",
   "metadata": {},
   "source": [
    "---\n",
    "title: Explore Ookla Data\n",
    "format:\n",
    "  html:\n",
    "    code-fold: false\n",
    "---"
   ]
  },
  {
   "cell_type": "code",
   "execution_count": 1,
   "id": "fb39c87d-de64-4d61-b639-f95b6971121a",
   "metadata": {
    "tags": []
   },
   "outputs": [],
   "source": [
    "%reload_ext autoreload\n",
    "%autoreload 2"
   ]
  },
  {
   "cell_type": "code",
   "execution_count": 2,
   "id": "9044c42a-846c-4af3-b548-b0fc73365c08",
   "metadata": {},
   "outputs": [],
   "source": [
    "import pandas as pd\n",
    "import geopandas as gpd\n",
    "import fastcore.all as L"
   ]
  },
  {
   "cell_type": "code",
   "execution_count": 3,
   "id": "b79d0ec0-9d25-4c27-8216-c8b5f0592ae8",
   "metadata": {},
   "outputs": [],
   "source": [
    "from pathlib import Path"
   ]
  },
  {
   "cell_type": "code",
   "execution_count": 4,
   "id": "965956c8-f54c-451d-bbaf-1d1e9190589a",
   "metadata": {},
   "outputs": [],
   "source": [
    "data_dir = Path('../test_data/inputs/tl/ookla_tl')"
   ]
  },
  {
   "cell_type": "code",
   "execution_count": 5,
   "id": "d08183cb-2947-46a9-a8ed-986c724ccc83",
   "metadata": {},
   "outputs": [],
   "source": [
    "ookla_gdf = gpd.read_file(data_dir/'tl_2019_2_ookla.geojson')"
   ]
  },
  {
   "cell_type": "code",
   "execution_count": 6,
   "id": "09a062b9-dfe7-455c-8b2c-676fe4c1e58f",
   "metadata": {},
   "outputs": [
    {
     "data": {
      "text/html": [
       "<div>\n",
       "<style scoped>\n",
       "    .dataframe tbody tr th:only-of-type {\n",
       "        vertical-align: middle;\n",
       "    }\n",
       "\n",
       "    .dataframe tbody tr th {\n",
       "        vertical-align: top;\n",
       "    }\n",
       "\n",
       "    .dataframe thead th {\n",
       "        text-align: right;\n",
       "    }\n",
       "</style>\n",
       "<table border=\"1\" class=\"dataframe\">\n",
       "  <thead>\n",
       "    <tr style=\"text-align: right;\">\n",
       "      <th></th>\n",
       "      <th>quadkey</th>\n",
       "      <th>avg_d_kbps</th>\n",
       "      <th>avg_u_kbps</th>\n",
       "      <th>avg_lat_ms</th>\n",
       "      <th>tests</th>\n",
       "      <th>devices</th>\n",
       "      <th>index_right</th>\n",
       "      <th>ADM0_EN</th>\n",
       "      <th>ADM0_PCODE</th>\n",
       "      <th>ADM1_EN</th>\n",
       "      <th>...</th>\n",
       "      <th>ADM2_EN</th>\n",
       "      <th>ADM2_PCODE</th>\n",
       "      <th>ADM3_EN</th>\n",
       "      <th>ADM3_PCODE</th>\n",
       "      <th>ADM3_REF</th>\n",
       "      <th>ADM3ALT1EN</th>\n",
       "      <th>ADM3ALT2EN</th>\n",
       "      <th>POINT_X</th>\n",
       "      <th>POINT_Y</th>\n",
       "      <th>geometry</th>\n",
       "    </tr>\n",
       "  </thead>\n",
       "  <tbody>\n",
       "    <tr>\n",
       "      <th>0</th>\n",
       "      <td>3101122101023021</td>\n",
       "      <td>4704</td>\n",
       "      <td>5886</td>\n",
       "      <td>21</td>\n",
       "      <td>24</td>\n",
       "      <td>9</td>\n",
       "      <td>198</td>\n",
       "      <td>Timor-Leste</td>\n",
       "      <td>TL</td>\n",
       "      <td>Dili</td>\n",
       "      <td>...</td>\n",
       "      <td>Dom Aleixo</td>\n",
       "      <td>TL0605</td>\n",
       "      <td>Kampung Alor</td>\n",
       "      <td>TL060502</td>\n",
       "      <td>None</td>\n",
       "      <td>None</td>\n",
       "      <td>None</td>\n",
       "      <td>125.561498</td>\n",
       "      <td>-8.550816</td>\n",
       "      <td>POLYGON ((125.55527 -8.54877, 125.56077 -8.548...</td>\n",
       "    </tr>\n",
       "    <tr>\n",
       "      <th>1</th>\n",
       "      <td>3101122101023123</td>\n",
       "      <td>2688</td>\n",
       "      <td>4930</td>\n",
       "      <td>50</td>\n",
       "      <td>67</td>\n",
       "      <td>14</td>\n",
       "      <td>167</td>\n",
       "      <td>Timor-Leste</td>\n",
       "      <td>TL</td>\n",
       "      <td>Dili</td>\n",
       "      <td>...</td>\n",
       "      <td>Nain Feto</td>\n",
       "      <td>TL0602</td>\n",
       "      <td>Gricenfor</td>\n",
       "      <td>TL060206</td>\n",
       "      <td>None</td>\n",
       "      <td>None</td>\n",
       "      <td>None</td>\n",
       "      <td>125.582836</td>\n",
       "      <td>-8.554380</td>\n",
       "      <td>POLYGON ((125.57725 -8.55420, 125.58274 -8.554...</td>\n",
       "    </tr>\n",
       "    <tr>\n",
       "      <th>2</th>\n",
       "      <td>3101122101023310</td>\n",
       "      <td>1104</td>\n",
       "      <td>901</td>\n",
       "      <td>44</td>\n",
       "      <td>86</td>\n",
       "      <td>2</td>\n",
       "      <td>63</td>\n",
       "      <td>Timor-Leste</td>\n",
       "      <td>TL</td>\n",
       "      <td>Dili</td>\n",
       "      <td>...</td>\n",
       "      <td>Nain Feto</td>\n",
       "      <td>TL0602</td>\n",
       "      <td>Bemori</td>\n",
       "      <td>TL060203</td>\n",
       "      <td>None</td>\n",
       "      <td>None</td>\n",
       "      <td>None</td>\n",
       "      <td>125.587389</td>\n",
       "      <td>-8.561463</td>\n",
       "      <td>POLYGON ((125.58274 -8.55963, 125.58823 -8.559...</td>\n",
       "    </tr>\n",
       "    <tr>\n",
       "      <th>3</th>\n",
       "      <td>3101122101023020</td>\n",
       "      <td>6505</td>\n",
       "      <td>8518</td>\n",
       "      <td>30</td>\n",
       "      <td>64</td>\n",
       "      <td>4</td>\n",
       "      <td>146</td>\n",
       "      <td>Timor-Leste</td>\n",
       "      <td>TL</td>\n",
       "      <td>Dili</td>\n",
       "      <td>...</td>\n",
       "      <td>Dom Aleixo</td>\n",
       "      <td>TL0605</td>\n",
       "      <td>Fatuhada</td>\n",
       "      <td>TL060501</td>\n",
       "      <td>None</td>\n",
       "      <td>None</td>\n",
       "      <td>None</td>\n",
       "      <td>125.553714</td>\n",
       "      <td>-8.550279</td>\n",
       "      <td>POLYGON ((125.54978 -8.54876, 125.55527 -8.548...</td>\n",
       "    </tr>\n",
       "    <tr>\n",
       "      <th>4</th>\n",
       "      <td>3101122101023033</td>\n",
       "      <td>2683</td>\n",
       "      <td>5667</td>\n",
       "      <td>34</td>\n",
       "      <td>18</td>\n",
       "      <td>14</td>\n",
       "      <td>101</td>\n",
       "      <td>Timor-Leste</td>\n",
       "      <td>TL</td>\n",
       "      <td>Dili</td>\n",
       "      <td>...</td>\n",
       "      <td>Vera Cruz</td>\n",
       "      <td>TL0601</td>\n",
       "      <td>Colmera</td>\n",
       "      <td>TL060105</td>\n",
       "      <td>None</td>\n",
       "      <td>None</td>\n",
       "      <td>None</td>\n",
       "      <td>125.572220</td>\n",
       "      <td>-8.555532</td>\n",
       "      <td>POLYGON ((125.56626 -8.55420, 125.57175 -8.554...</td>\n",
       "    </tr>\n",
       "  </tbody>\n",
       "</table>\n",
       "<p>5 rows × 21 columns</p>\n",
       "</div>"
      ],
      "text/plain": [
       "            quadkey  avg_d_kbps  avg_u_kbps  avg_lat_ms  tests  devices  \\\n",
       "0  3101122101023021        4704        5886          21     24        9   \n",
       "1  3101122101023123        2688        4930          50     67       14   \n",
       "2  3101122101023310        1104         901          44     86        2   \n",
       "3  3101122101023020        6505        8518          30     64        4   \n",
       "4  3101122101023033        2683        5667          34     18       14   \n",
       "\n",
       "   index_right      ADM0_EN ADM0_PCODE ADM1_EN  ...     ADM2_EN ADM2_PCODE  \\\n",
       "0          198  Timor-Leste         TL    Dili  ...  Dom Aleixo     TL0605   \n",
       "1          167  Timor-Leste         TL    Dili  ...   Nain Feto     TL0602   \n",
       "2           63  Timor-Leste         TL    Dili  ...   Nain Feto     TL0602   \n",
       "3          146  Timor-Leste         TL    Dili  ...  Dom Aleixo     TL0605   \n",
       "4          101  Timor-Leste         TL    Dili  ...   Vera Cruz     TL0601   \n",
       "\n",
       "        ADM3_EN ADM3_PCODE ADM3_REF ADM3ALT1EN ADM3ALT2EN     POINT_X  \\\n",
       "0  Kampung Alor   TL060502     None       None       None  125.561498   \n",
       "1     Gricenfor   TL060206     None       None       None  125.582836   \n",
       "2        Bemori   TL060203     None       None       None  125.587389   \n",
       "3      Fatuhada   TL060501     None       None       None  125.553714   \n",
       "4       Colmera   TL060105     None       None       None  125.572220   \n",
       "\n",
       "    POINT_Y                                           geometry  \n",
       "0 -8.550816  POLYGON ((125.55527 -8.54877, 125.56077 -8.548...  \n",
       "1 -8.554380  POLYGON ((125.57725 -8.55420, 125.58274 -8.554...  \n",
       "2 -8.561463  POLYGON ((125.58274 -8.55963, 125.58823 -8.559...  \n",
       "3 -8.550279  POLYGON ((125.54978 -8.54876, 125.55527 -8.548...  \n",
       "4 -8.555532  POLYGON ((125.56626 -8.55420, 125.57175 -8.554...  \n",
       "\n",
       "[5 rows x 21 columns]"
      ]
     },
     "execution_count": 6,
     "metadata": {},
     "output_type": "execute_result"
    }
   ],
   "source": [
    "ookla_gdf.head()"
   ]
  },
  {
   "cell_type": "code",
   "execution_count": 7,
   "id": "5efabcd3-7cf4-46ff-8c48-3d5ccbf0e6fb",
   "metadata": {},
   "outputs": [
    {
     "data": {
      "text/plain": [
       "array(['quadkey', 'avg_d_kbps', 'avg_u_kbps', 'avg_lat_ms', 'tests',\n",
       "       'devices', 'index_right', 'ADM0_EN', 'ADM0_PCODE', 'ADM1_EN',\n",
       "       'ADM1_PCODE', 'ADM2_EN', 'ADM2_PCODE', 'ADM3_EN', 'ADM3_PCODE',\n",
       "       'ADM3_REF', 'ADM3ALT1EN', 'ADM3ALT2EN', 'POINT_X', 'POINT_Y',\n",
       "       'geometry'], dtype=object)"
      ]
     },
     "execution_count": 7,
     "metadata": {},
     "output_type": "execute_result"
    }
   ],
   "source": [
    "ookla_gdf.columns.values"
   ]
  },
  {
   "cell_type": "code",
   "execution_count": 10,
   "id": "f85dc1dd-236c-4dd4-89ae-58587d832c22",
   "metadata": {},
   "outputs": [],
   "source": [
    "import matplotlib.pyplot as plt"
   ]
  },
  {
   "cell_type": "code",
   "execution_count": 11,
   "id": "79cfa9c7-00c1-4a7c-8f0f-f514ec1276ac",
   "metadata": {},
   "outputs": [
    {
     "data": {
      "text/plain": [
       "<Geographic 2D CRS: EPSG:4683>\n",
       "Name: PRS92\n",
       "Axis Info [ellipsoidal]:\n",
       "- Lat[north]: Geodetic latitude (degree)\n",
       "- Lon[east]: Geodetic longitude (degree)\n",
       "Area of Use:\n",
       "- name: Philippines - onshore and offshore.\n",
       "- bounds: (116.04, 3.0, 129.95, 22.18)\n",
       "Datum: Philippine Reference System 1992\n",
       "- Ellipsoid: Clarke 1866\n",
       "- Prime Meridian: Greenwich"
      ]
     },
     "execution_count": 11,
     "metadata": {},
     "output_type": "execute_result"
    }
   ],
   "source": [
    "ookla_gdf.crs"
   ]
  },
  {
   "cell_type": "code",
   "execution_count": 12,
   "id": "d780f000-0fdd-4c8c-8841-fc27218706b4",
   "metadata": {},
   "outputs": [
    {
     "data": {
      "text/plain": [
       "True"
      ]
     },
     "execution_count": 12,
     "metadata": {},
     "output_type": "execute_result"
    }
   ],
   "source": [
    "ookla_gdf.crs.is_geographic"
   ]
  },
  {
   "cell_type": "code",
   "execution_count": 13,
   "id": "de7d536b-a577-4c20-8d54-3b32e0f7ba48",
   "metadata": {},
   "outputs": [
    {
     "data": {
      "text/plain": [
       "<AxesSubplot: >"
      ]
     },
     "execution_count": 13,
     "metadata": {},
     "output_type": "execute_result"
    },
    {
     "data": {
      "image/png": "[encoded data removed]",
      "text/plain": [
       "<Figure size 640x480 with 1 Axes>"
      ]
     },
     "metadata": {},
     "output_type": "display_data"
    }
   ],
   "source": [
    "ax = plt.axes()\n",
    "ookla_gdf.plot(column='avg_d_kbps', ax=ax)"
   ]
  },
  {
   "cell_type": "code",
   "execution_count": 14,
   "id": "f2a3303f-7791-42cc-90c9-e946d470c674",
   "metadata": {},
   "outputs": [],
   "source": [
    "ookla_gdf = ookla_gdf.to_crs(\"EPSG:4326\")"
   ]
  },
  {
   "cell_type": "code",
   "execution_count": 15,
   "id": "9e3c24c9-40f6-4e05-a34c-7e922ebd9531",
   "metadata": {},
   "outputs": [
    {
     "data": {
      "text/plain": [
       "<AxesSubplot: >"
      ]
     },
     "execution_count": 15,
     "metadata": {},
     "output_type": "execute_result"
    },
    {
     "data": {
      "image/png": "[encoded data removed]",
      "text/plain": [
       "<Figure size 640x480 with 1 Axes>"
      ]
     },
     "metadata": {},
     "output_type": "display_data"
    }
   ],
   "source": [
    "ax = plt.axes()\n",
    "ookla_gdf.plot(column='avg_d_kbps', ax=ax)"
   ]
  },
  {
   "cell_type": "code",
   "execution_count": 16,
   "id": "7ed4a080-cf48-4073-b2b6-a1459319b1fa",
   "metadata": {},
   "outputs": [
    {
     "data": {
      "text/plain": [
       "11"
      ]
     },
     "execution_count": 16,
     "metadata": {},
     "output_type": "execute_result"
    }
   ],
   "source": [
    "len(ookla_gdf)"
   ]
  },
  {
   "cell_type": "code",
   "execution_count": 17,
   "id": "b7ac65bb-a0a9-4c17-ae35-367712283e9a",
   "metadata": {},
   "outputs": [
    {
     "data": {
      "text/plain": [
       "array([125.5517578 ,  -8.57015774, 125.59020995,  -8.5484298 ])"
      ]
     },
     "execution_count": 17,
     "metadata": {},
     "output_type": "execute_result"
    }
   ],
   "source": [
    "ookla_gdf.geometry.total_bounds"
   ]
  },
  {
   "cell_type": "code",
   "execution_count": 18,
   "id": "07d7a900-fac7-4c64-8322-80f51ccb98d2",
   "metadata": {},
   "outputs": [],
   "source": [
    "data_dir2 = Path('../data/SVII_PH_KH_MM_TL/ph/ookla_ph')"
   ]
  },
  {
   "cell_type": "code",
   "execution_count": 19,
   "id": "07393f01-e360-4948-96ac-524ac2c461da",
   "metadata": {},
   "outputs": [
    {
     "name": "stdout",
     "output_type": "stream",
     "text": [
      "CPU times: user 9.25 s, sys: 254 ms, total: 9.51 s\n",
      "Wall time: 9.5 s\n"
     ]
    }
   ],
   "source": [
    "%%time\n",
    "ookla_gdf2 = gpd.read_file(data_dir2/'ph_2020_2_ookla.geojson')"
   ]
  },
  {
   "cell_type": "code",
   "execution_count": 20,
   "id": "d8d60c6f-7123-4b31-941e-aad6e044fb86",
   "metadata": {},
   "outputs": [
    {
     "data": {
      "text/plain": [
       "array([117.38740654,   4.92216319, 126.58843999,  20.78878856])"
      ]
     },
     "execution_count": 20,
     "metadata": {},
     "output_type": "execute_result"
    }
   ],
   "source": [
    "ookla_gdf2.total_bounds"
   ]
  },
  {
   "cell_type": "code",
   "execution_count": 21,
   "id": "de639e96-4426-4901-a5aa-d6605d52c33c",
   "metadata": {},
   "outputs": [
    {
     "data": {
      "text/plain": [
       "84950"
      ]
     },
     "execution_count": 21,
     "metadata": {},
     "output_type": "execute_result"
    }
   ],
   "source": [
    "len(ookla_gdf2)"
   ]
  },
  {
   "cell_type": "code",
   "execution_count": 22,
   "id": "dd7ae177-3321-4952-9906-76a46e79c45d",
   "metadata": {},
   "outputs": [
    {
     "data": {
      "text/plain": [
       "<AxesSubplot: >"
      ]
     },
     "execution_count": 22,
     "metadata": {},
     "output_type": "execute_result"
    },
    {
     "data": {
      "image/png": "[encoded data removed]",
      "text/plain": [
       "<Figure size 640x480 with 1 Axes>"
      ]
     },
     "metadata": {},
     "output_type": "display_data"
    }
   ],
   "source": [
    "ax = plt.axes()\n",
    "ookla_gdf2.plot(column='avg_d_kbps', ax=ax)"
   ]
  },
  {
   "cell_type": "markdown",
   "id": "38e26aaf-3443-4d9b-a5e3-2e2ad6dcfde9",
   "metadata": {
    "tags": []
   },
   "source": [
    "### Check lat/long column names for DHS clusters"
   ]
  },
  {
   "cell_type": "code",
   "execution_count": 23,
   "id": "7e7486ef-c901-4140-9e56-6ff5275043f2",
   "metadata": {},
   "outputs": [],
   "source": [
    "repo_dir = '../test_data/real_outputs'"
   ]
  },
  {
   "cell_type": "code",
   "execution_count": 24,
   "id": "c6b8297b-6899-487f-ac47-ef5969f5b0ef",
   "metadata": {},
   "outputs": [],
   "source": [
    "dhs_countries = ['kh','mm','ph','tl']"
   ]
  },
  {
   "cell_type": "code",
   "execution_count": 25,
   "id": "14f79191-2907-41c6-aedf-0d5c86d9b722",
   "metadata": {},
   "outputs": [],
   "source": [
    "dhs_geo_zip_folders = dict(\n",
    "    kh='KHGE71FL',\n",
    "    mm='MMGE71FL',\n",
    "    ph='PHGE71FL',\n",
    "    tl='TLGE71FL')"
   ]
  },
  {
   "cell_type": "code",
   "execution_count": 27,
   "id": "76d450f4-1f60-479f-8e73-b92e5b693116",
   "metadata": {},
   "outputs": [],
   "source": [
    "def get_cluster_coords(country, repo_dir=repo_dir,dhs_geo_zip_folders=dhs_geo_zip_folders):\n",
    "    folder = dhs_geo_zip_folders.get(country,None)\n",
    "    if folder is None:\n",
    "        raise ValueError(f\"No DHS geo_zip_folder found for {country}, only these countries have a DHS geo_zip_folder {dhs_geo_zip_folders.keys()}\")\n",
    "    cluster_coord_path = Path(repo_dir)/f'dhs_{country}'/f'{folder}_cluster_coords.csv'\n",
    "    if not cluster_coord_path.exists():\n",
    "        raise ValueError(f\"Cluster coords file {cluster_coord_path} is missing!\")\n",
    "    return pd.read_csv(cluster_coord_path)\n",
    "                         "
   ]
  },
  {
   "cell_type": "code",
   "execution_count": 30,
   "id": "d1dd5d75-bf8f-4599-9714-2ae2db5cb70d",
   "metadata": {},
   "outputs": [],
   "source": [
    "kh_cluster_coords = get_cluster_coords('kh')\n",
    "mm_cluster_coords = get_cluster_coords('mm')\n",
    "ph_cluster_coords = get_cluster_coords('ph')\n",
    "tl_cluster_coords = get_cluster_coords('tl')"
   ]
  },
  {
   "cell_type": "code",
   "execution_count": 31,
   "id": "d0a579ac-a010-49a8-94ec-d898faba708c",
   "metadata": {},
   "outputs": [
    {
     "data": {
      "text/plain": [
       "array(['DHSID', 'DHSCC', 'DHSYEAR', 'DHSCLUST', 'CCFIPS', 'ADM1FIPS',\n",
       "       'ADM1FIPSNA', 'ADM1SALBNA', 'ADM1SALBCO', 'ADM1DHS', 'ADM1NAME',\n",
       "       'DHSREGCO', 'DHSREGNA', 'SOURCE', 'URBAN_RURA', 'LATNUM',\n",
       "       'LONGNUM', 'ALT_GPS', 'ALT_DEM', 'DATUM', 'geometry'], dtype=object)"
      ]
     },
     "execution_count": 31,
     "metadata": {},
     "output_type": "execute_result"
    }
   ],
   "source": [
    "kh_cluster_coords.columns.values"
   ]
  },
  {
   "cell_type": "code",
   "execution_count": 32,
   "id": "5aefee36-fe09-4369-a600-0c7e19da5caa",
   "metadata": {},
   "outputs": [
    {
     "data": {
      "text/plain": [
       "array(['DHSID', 'DHSCC', 'DHSYEAR', 'DHSCLUST', 'CCFIPS', 'ADM1FIPS',\n",
       "       'ADM1FIPSNA', 'ADM1SALBNA', 'ADM1SALBCO', 'ADM1DHS', 'ADM1NAME',\n",
       "       'DHSREGCO', 'DHSREGNA', 'SOURCE', 'URBAN_RURA', 'LATNUM',\n",
       "       'LONGNUM', 'ALT_GPS', 'ALT_DEM', 'DATUM', 'geometry'], dtype=object)"
      ]
     },
     "execution_count": 32,
     "metadata": {},
     "output_type": "execute_result"
    }
   ],
   "source": [
    "mm_cluster_coords.columns.values"
   ]
  },
  {
   "cell_type": "code",
   "execution_count": 33,
   "id": "15467779-0376-4b23-be30-ccf743e9942e",
   "metadata": {},
   "outputs": [
    {
     "data": {
      "text/plain": [
       "array(['DHSID', 'DHSCC', 'DHSYEAR', 'DHSCLUST', 'CCFIPS', 'ADM1FIPS',\n",
       "       'ADM1FIPSNA', 'ADM1SALBNA', 'ADM1SALBCO', 'ADM1DHS', 'ADM1NAME',\n",
       "       'DHSREGCO', 'DHSREGNA', 'SOURCE', 'URBAN_RURA', 'LATNUM',\n",
       "       'LONGNUM', 'ALT_GPS', 'ALT_DEM', 'DATUM', 'geometry'], dtype=object)"
      ]
     },
     "execution_count": 33,
     "metadata": {},
     "output_type": "execute_result"
    }
   ],
   "source": [
    "kh_cluster_coords.columns.values"
   ]
  },
  {
   "cell_type": "code",
   "execution_count": 34,
   "id": "fabdb3cf-ed05-4b59-bd20-5ac672a9211e",
   "metadata": {},
   "outputs": [
    {
     "data": {
      "text/plain": [
       "array(['DHSID', 'DHSCC', 'DHSYEAR', 'DHSCLUST', 'CCFIPS', 'ADM1FIPS',\n",
       "       'ADM1FIPSNA', 'ADM1SALBNA', 'ADM1SALBCO', 'ADM1DHS', 'ADM1NAME',\n",
       "       'DHSREGCO', 'DHSREGNA', 'SOURCE', 'URBAN_RURA', 'LATNUM',\n",
       "       'LONGNUM', 'ALT_GPS', 'ALT_DEM', 'DATUM', 'geometry'], dtype=object)"
      ]
     },
     "execution_count": 34,
     "metadata": {},
     "output_type": "execute_result"
    }
   ],
   "source": [
    "ph_cluster_coords.columns.values"
   ]
  },
  {
   "cell_type": "code",
   "execution_count": 35,
   "id": "95fc6c8d-211a-401b-8e75-344833f53708",
   "metadata": {},
   "outputs": [
    {
     "data": {
      "text/plain": [
       "array(['DHSID', 'DHSCC', 'DHSYEAR', 'DHSCLUST', 'CCFIPS', 'ADM1FIPS',\n",
       "       'ADM1FIPSNA', 'ADM1SALBNA', 'ADM1SALBCO', 'ADM1DHS', 'ADM1NAME',\n",
       "       'DHSREGCO', 'DHSREGNA', 'SOURCE', 'URBAN_RURA', 'LATNUM',\n",
       "       'LONGNUM', 'ALT_GPS', 'ALT_DEM', 'DATUM', 'F21', 'F22', 'F23',\n",
       "       'geometry'], dtype=object)"
      ]
     },
     "execution_count": 35,
     "metadata": {},
     "output_type": "execute_result"
    }
   ],
   "source": [
    "tl_cluster_coords.columns.values"
   ]
  },
  {
   "cell_type": "code",
   "execution_count": null,
   "id": "1cb28ec4-c663-4929-955e-7f3fed24b9cc",
   "metadata": {},
   "outputs": [],
   "source": []
  }
 ],
 "metadata": {
  "kernelspec": {
   "display_name": "Python 3 (ipykernel)",
   "language": "python",
   "name": "python3"
  },
  "language_info": {
   "codemirror_mode": {
    "name": "ipython",
    "version": 3
   },
   "file_extension": ".py",
   "mimetype": "text/x-python",
   "name": "python",
   "nbconvert_exporter": "python",
   "pygments_lexer": "ipython3",
   "version": "3.9.13"
  }
 },
 "nbformat": 4,
 "nbformat_minor": 5
}
