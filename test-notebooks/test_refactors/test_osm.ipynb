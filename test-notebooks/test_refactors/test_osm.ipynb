{
 "cells": [
  {
   "attachments": {},
   "cell_type": "markdown",
   "metadata": {},
   "source": [
    "Temporary notebook to run and manually test the OSM feature generation function.\n",
    "\n",
    "Cluster-level data is taken from the GCS bucket."
   ]
  },
  {
   "cell_type": "code",
   "execution_count": null,
   "metadata": {},
   "outputs": [],
   "source": [
    "%reload_ext autoreload\n",
    "%autoreload 2"
   ]
  },
  {
   "cell_type": "code",
   "execution_count": null,
   "metadata": {},
   "outputs": [],
   "source": [
    "import sys\n",
    "sys.path.append(\"../../../\")\n",
    "\n",
    "import uuid\n",
    "\n",
    "import geopandas as gpd\n",
    "import pandas as pd\n",
    "from shapely import wkt\n",
    "\n",
    "from povertymapping import settings, osm\n",
    "from povertymapping.osm import OsmDataManager"
   ]
  },
  {
   "cell_type": "code",
   "execution_count": null,
   "metadata": {},
   "outputs": [],
   "source": [
    "# Create an OsmDataManager instance once.\n",
    "# This auto-caches requested data in RAM, so next fetches of the data are faster.\n",
    "osm_data_manager = OsmDataManager(cache_dir=settings.ROOT_DIR/\"data/data_cache\")"
   ]
  },
  {
   "attachments": {},
   "cell_type": "markdown",
   "metadata": {},
   "source": [
    "# Load in Cluster Data"
   ]
  },
  {
   "cell_type": "code",
   "execution_count": null,
   "metadata": {},
   "outputs": [],
   "source": [
    "# This is just a temporary function, so not all proper pre-processing are done \n",
    "#   (e.g. filtering out 0s, creating a box instead of circular buffer)\n",
    "def load_cluster_gdf(path, change_geom_to_buffered=True):\n",
    "    df = pd.read_csv(path)\n",
    "\n",
    "    # Create a GeoDataFrame from the longitude, latitude columns.\n",
    "    gdf = gpd.GeoDataFrame(df, geometry=df[\"geometry\"].apply(wkt.loads), crs=\"epsg:4326\")\n",
    "\n",
    "    if change_geom_to_buffered:\n",
    "        gdf[\"geometry\"] = gdf.to_crs(\"EPSG:3857\").geometry.buffer(2000).to_crs(\"epsg:4326\")\n",
    "\n",
    "    print(f\"There are {len(gdf):,} clusters.\")\n",
    "\n",
    "    return gdf"
   ]
  },
  {
   "cell_type": "code",
   "execution_count": null,
   "metadata": {},
   "outputs": [],
   "source": [
    "# Try Timor Leste\n",
    "country = \"east-timor\"\n",
    "ground_truth_path = settings.DATA_DIR/\"outputs_dhs_tl_TLHR71DT_TLGE71FL_by_cluster.csv\"\n",
    "gdf = load_cluster_gdf(ground_truth_path)\n",
    "gdf = osm.add_osm_poi_features(gdf, country, osm_data_manager)\n",
    "gdf = osm.add_osm_road_features(gdf, country, osm_data_manager)\n",
    "gdf.explore()"
   ]
  },
  {
   "cell_type": "code",
   "execution_count": null,
   "metadata": {},
   "outputs": [],
   "source": [
    "# Try Myanmar\n",
    "country = \"myanmar\"\n",
    "ground_truth_path = settings.DATA_DIR/\"outputs_dhs_mm_MMHR71DT_MMGE71FL_by_cluster.csv\"\n",
    "gdf = load_cluster_gdf(ground_truth_path)\n",
    "gdf = osm.add_osm_poi_features(gdf, country, osm_data_manager)\n",
    "gdf = osm.add_osm_road_features(gdf, country, osm_data_manager)\n",
    "gdf.explore()"
   ]
  },
  {
   "cell_type": "code",
   "execution_count": null,
   "metadata": {},
   "outputs": [],
   "source": [
    "# Try Cambodia\n",
    "country = \"cambodia\"\n",
    "ground_truth_path = settings.DATA_DIR/\"outputs_dhs_kh_KHHR73DT_KHGE71FL_by_cluster.csv\"\n",
    "gdf = load_cluster_gdf(ground_truth_path)\n",
    "gdf = osm.add_osm_poi_features(gdf, country, osm_data_manager)\n",
    "gdf = osm.add_osm_road_features(gdf, country, osm_data_manager)\n",
    "gdf.explore()"
   ]
  },
  {
   "cell_type": "code",
   "execution_count": null,
   "metadata": {},
   "outputs": [],
   "source": [
    "# Try Philippines\n",
    "country = \"philippines\"\n",
    "ground_truth_path = settings.DATA_DIR/\"outputs_dhs_ph_PHHR71DT_PHGE71FL_by_cluster.csv\"\n",
    "gdf = load_cluster_gdf(ground_truth_path)\n",
    "gdf = osm.add_osm_poi_features(gdf, country, osm_data_manager)\n",
    "gdf = osm.add_osm_road_features(gdf, country, osm_data_manager)\n",
    "gdf.explore()"
   ]
  },
  {
   "cell_type": "code",
   "execution_count": null,
   "metadata": {},
   "outputs": [],
   "source": []
  }
 ],
 "metadata": {
  "kernelspec": {
   "display_name": "Python 3",
   "language": "python",
   "name": "python3"
  },
  "language_info": {
   "codemirror_mode": {
    "name": "ipython",
    "version": 3
   },
   "file_extension": ".py",
   "mimetype": "text/x-python",
   "name": "python",
   "nbconvert_exporter": "python",
   "pygments_lexer": "ipython3",
   "version": "3.9.15"
  },
  "orig_nbformat": 4,
  "vscode": {
   "interpreter": {
    "hash": "d3b44cad9d156707029f996d40982c870f2dda9a24f90ef8d0603319a885159c"
   }
  }
 },
 "nbformat": 4,
 "nbformat_minor": 2
}
