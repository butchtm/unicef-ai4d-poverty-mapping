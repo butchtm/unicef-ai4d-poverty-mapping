{
 "cells": [
  {
   "attachments": {},
   "cell_type": "markdown",
   "metadata": {},
   "source": [
    "Temporary notebook to run and manually test the OSM feature generation function.\n",
    "\n",
    "PHL cluster-level data is taken from [GDrive](https://drive.google.com/drive/u/0/folders/1N9vSFX05bDWGolfsRjTTBUxGtuVP-77s)."
   ]
  },
  {
   "cell_type": "code",
   "execution_count": 1,
   "metadata": {},
   "outputs": [],
   "source": [
    "%reload_ext autoreload\n",
    "%autoreload 2"
   ]
  },
  {
   "cell_type": "code",
   "execution_count": 2,
   "metadata": {},
   "outputs": [],
   "source": [
    "import sys\n",
    "sys.path.append(\"../../../\")\n",
    "\n",
    "from povertymapping import osm\n",
    "\n",
    "import geopandas as gpd\n",
    "import pandas as pd\n",
    "\n",
    "from povertymapping import settings"
   ]
  },
  {
   "attachments": {},
   "cell_type": "markdown",
   "metadata": {},
   "source": [
    "Load in temporary data for PHL clusters"
   ]
  },
  {
   "cell_type": "code",
   "execution_count": 3,
   "metadata": {},
   "outputs": [
    {
     "name": "stdout",
     "output_type": "stream",
     "text": [
      "There are 1,213 clusters.\n"
     ]
    },
    {
     "data": {
      "text/html": [
       "<div>\n",
       "<style scoped>\n",
       "    .dataframe tbody tr th:only-of-type {\n",
       "        vertical-align: middle;\n",
       "    }\n",
       "\n",
       "    .dataframe tbody tr th {\n",
       "        vertical-align: top;\n",
       "    }\n",
       "\n",
       "    .dataframe thead th {\n",
       "        text-align: right;\n",
       "    }\n",
       "</style>\n",
       "<table border=\"1\" class=\"dataframe\">\n",
       "  <thead>\n",
       "    <tr style=\"text-align: right;\">\n",
       "      <th></th>\n",
       "      <th>DHSCLUST</th>\n",
       "      <th>Wealth Index</th>\n",
       "      <th>DHSID</th>\n",
       "      <th>longitude</th>\n",
       "      <th>latitude</th>\n",
       "      <th>geometry</th>\n",
       "    </tr>\n",
       "  </thead>\n",
       "  <tbody>\n",
       "    <tr>\n",
       "      <th>0</th>\n",
       "      <td>1</td>\n",
       "      <td>-31881.60870</td>\n",
       "      <td>PH201700000001</td>\n",
       "      <td>122.109807</td>\n",
       "      <td>6.674652</td>\n",
       "      <td>POINT (122.10981 6.67465)</td>\n",
       "    </tr>\n",
       "    <tr>\n",
       "      <th>1</th>\n",
       "      <td>2</td>\n",
       "      <td>-2855.37500</td>\n",
       "      <td>PH201700000002</td>\n",
       "      <td>122.132027</td>\n",
       "      <td>6.662256</td>\n",
       "      <td>POINT (122.13203 6.66226)</td>\n",
       "    </tr>\n",
       "    <tr>\n",
       "      <th>2</th>\n",
       "      <td>3</td>\n",
       "      <td>-57647.04762</td>\n",
       "      <td>PH201700000003</td>\n",
       "      <td>122.179496</td>\n",
       "      <td>6.621822</td>\n",
       "      <td>POINT (122.17950 6.62182)</td>\n",
       "    </tr>\n",
       "    <tr>\n",
       "      <th>3</th>\n",
       "      <td>4</td>\n",
       "      <td>-54952.66667</td>\n",
       "      <td>PH201700000004</td>\n",
       "      <td>122.137965</td>\n",
       "      <td>6.485298</td>\n",
       "      <td>POINT (122.13796 6.48530)</td>\n",
       "    </tr>\n",
       "    <tr>\n",
       "      <th>5</th>\n",
       "      <td>6</td>\n",
       "      <td>-80701.69565</td>\n",
       "      <td>PH201700000006</td>\n",
       "      <td>121.916094</td>\n",
       "      <td>6.629457</td>\n",
       "      <td>POINT (121.91609 6.62946)</td>\n",
       "    </tr>\n",
       "  </tbody>\n",
       "</table>\n",
       "</div>"
      ],
      "text/plain": [
       "   DHSCLUST  Wealth Index           DHSID   longitude  latitude  \\\n",
       "0         1  -31881.60870  PH201700000001  122.109807  6.674652   \n",
       "1         2   -2855.37500  PH201700000002  122.132027  6.662256   \n",
       "2         3  -57647.04762  PH201700000003  122.179496  6.621822   \n",
       "3         4  -54952.66667  PH201700000004  122.137965  6.485298   \n",
       "5         6  -80701.69565  PH201700000006  121.916094  6.629457   \n",
       "\n",
       "                    geometry  \n",
       "0  POINT (122.10981 6.67465)  \n",
       "1  POINT (122.13203 6.66226)  \n",
       "2  POINT (122.17950 6.62182)  \n",
       "3  POINT (122.13796 6.48530)  \n",
       "5  POINT (121.91609 6.62946)  "
      ]
     },
     "execution_count": 3,
     "metadata": {},
     "output_type": "execute_result"
    }
   ],
   "source": [
    "# Load ground truth data as a DataFrame first\n",
    "GROUND_TRUTH_CSV = settings.DATA_DIR/\"phl_dhs_cluster_level.csv\"\n",
    "df = pd.read_csv(GROUND_TRUTH_CSV)\n",
    "\n",
    "# Some of the coordinates in the data are invalid. This filters them out.\n",
    "df = df[(df.longitude>0)&(df.latitude>0)]\n",
    "\n",
    "# Create a GeoDataFrame from the longitude, latitude columns.\n",
    "gdf = gpd.GeoDataFrame(df, geometry=gpd.points_from_xy(df.longitude, df.latitude), crs=\"epsg:4326\")\n",
    "\n",
    "print(f\"There are {len(gdf):,} clusters.\")\n",
    "gdf.head()"
   ]
  },
  {
   "attachments": {},
   "cell_type": "markdown",
   "metadata": {},
   "source": [
    "Try the OSM feature generation function."
   ]
  },
  {
   "cell_type": "code",
   "execution_count": 4,
   "metadata": {},
   "outputs": [
    {
     "name": "stderr",
     "output_type": "stream",
     "text": [
      "2023-01-06 17:09:49.588 | INFO     | povertymapping.osm:download_osm_country_data:86 - OSM Data: Cached data available for philippines at /home/alron/unicef-ai4d-poverty-mapping/data/data_cache/osm/philippines? True\n"
     ]
    },
    {
     "name": "stdout",
     "output_type": "stream",
     "text": [
      "CPU times: user 6.62 s, sys: 198 ms, total: 6.82 s\n",
      "Wall time: 6.82 s\n"
     ]
    },
    {
     "data": {
      "text/html": [
       "<div>\n",
       "<style scoped>\n",
       "    .dataframe tbody tr th:only-of-type {\n",
       "        vertical-align: middle;\n",
       "    }\n",
       "\n",
       "    .dataframe tbody tr th {\n",
       "        vertical-align: top;\n",
       "    }\n",
       "\n",
       "    .dataframe thead th {\n",
       "        text-align: right;\n",
       "    }\n",
       "</style>\n",
       "<table border=\"1\" class=\"dataframe\">\n",
       "  <thead>\n",
       "    <tr style=\"text-align: right;\">\n",
       "      <th></th>\n",
       "      <th>DHSCLUST</th>\n",
       "      <th>Wealth Index</th>\n",
       "      <th>DHSID</th>\n",
       "      <th>longitude</th>\n",
       "      <th>latitude</th>\n",
       "      <th>geometry</th>\n",
       "      <th>poi_count</th>\n",
       "      <th>restaurant_count</th>\n",
       "      <th>restaurant_nearest</th>\n",
       "      <th>school_count</th>\n",
       "      <th>school_nearest</th>\n",
       "      <th>bank_count</th>\n",
       "      <th>bank_nearest</th>\n",
       "      <th>supermarket_count</th>\n",
       "      <th>supermarket_nearest</th>\n",
       "      <th>mall_count</th>\n",
       "      <th>mall_nearest</th>\n",
       "      <th>atm_count</th>\n",
       "      <th>atm_nearest</th>\n",
       "    </tr>\n",
       "  </thead>\n",
       "  <tbody>\n",
       "    <tr>\n",
       "      <th>0</th>\n",
       "      <td>1</td>\n",
       "      <td>-31881.60870</td>\n",
       "      <td>PH201700000001</td>\n",
       "      <td>122.109807</td>\n",
       "      <td>6.674652</td>\n",
       "      <td>POINT (122.10981 6.67465)</td>\n",
       "      <td>0.0</td>\n",
       "      <td>0.0</td>\n",
       "      <td>5151.143562</td>\n",
       "      <td>0.0</td>\n",
       "      <td>3392.458241</td>\n",
       "      <td>0.0</td>\n",
       "      <td>3762.475794</td>\n",
       "      <td>0.0</td>\n",
       "      <td>999999.0</td>\n",
       "      <td>0.0</td>\n",
       "      <td>999999.0</td>\n",
       "      <td>0.0</td>\n",
       "      <td>999999.0</td>\n",
       "    </tr>\n",
       "    <tr>\n",
       "      <th>1</th>\n",
       "      <td>2</td>\n",
       "      <td>-2855.37500</td>\n",
       "      <td>PH201700000002</td>\n",
       "      <td>122.132027</td>\n",
       "      <td>6.662256</td>\n",
       "      <td>POINT (122.13203 6.66226)</td>\n",
       "      <td>0.0</td>\n",
       "      <td>0.0</td>\n",
       "      <td>7787.461326</td>\n",
       "      <td>0.0</td>\n",
       "      <td>5600.808072</td>\n",
       "      <td>0.0</td>\n",
       "      <td>965.901202</td>\n",
       "      <td>0.0</td>\n",
       "      <td>999999.0</td>\n",
       "      <td>0.0</td>\n",
       "      <td>999999.0</td>\n",
       "      <td>0.0</td>\n",
       "      <td>999999.0</td>\n",
       "    </tr>\n",
       "    <tr>\n",
       "      <th>2</th>\n",
       "      <td>3</td>\n",
       "      <td>-57647.04762</td>\n",
       "      <td>PH201700000003</td>\n",
       "      <td>122.179496</td>\n",
       "      <td>6.621822</td>\n",
       "      <td>POINT (122.17950 6.62182)</td>\n",
       "      <td>0.0</td>\n",
       "      <td>0.0</td>\n",
       "      <td>999999.000000</td>\n",
       "      <td>0.0</td>\n",
       "      <td>2641.308143</td>\n",
       "      <td>0.0</td>\n",
       "      <td>6025.856477</td>\n",
       "      <td>0.0</td>\n",
       "      <td>999999.0</td>\n",
       "      <td>0.0</td>\n",
       "      <td>999999.0</td>\n",
       "      <td>0.0</td>\n",
       "      <td>999999.0</td>\n",
       "    </tr>\n",
       "    <tr>\n",
       "      <th>3</th>\n",
       "      <td>4</td>\n",
       "      <td>-54952.66667</td>\n",
       "      <td>PH201700000004</td>\n",
       "      <td>122.137965</td>\n",
       "      <td>6.485298</td>\n",
       "      <td>POINT (122.13796 6.48530)</td>\n",
       "      <td>0.0</td>\n",
       "      <td>0.0</td>\n",
       "      <td>999999.000000</td>\n",
       "      <td>0.0</td>\n",
       "      <td>4287.469155</td>\n",
       "      <td>0.0</td>\n",
       "      <td>999999.000000</td>\n",
       "      <td>0.0</td>\n",
       "      <td>999999.0</td>\n",
       "      <td>0.0</td>\n",
       "      <td>999999.0</td>\n",
       "      <td>0.0</td>\n",
       "      <td>999999.0</td>\n",
       "    </tr>\n",
       "    <tr>\n",
       "      <th>5</th>\n",
       "      <td>6</td>\n",
       "      <td>-80701.69565</td>\n",
       "      <td>PH201700000006</td>\n",
       "      <td>121.916094</td>\n",
       "      <td>6.629457</td>\n",
       "      <td>POINT (121.91609 6.62946)</td>\n",
       "      <td>0.0</td>\n",
       "      <td>0.0</td>\n",
       "      <td>999999.000000</td>\n",
       "      <td>0.0</td>\n",
       "      <td>5930.529470</td>\n",
       "      <td>0.0</td>\n",
       "      <td>999999.000000</td>\n",
       "      <td>0.0</td>\n",
       "      <td>999999.0</td>\n",
       "      <td>0.0</td>\n",
       "      <td>999999.0</td>\n",
       "      <td>0.0</td>\n",
       "      <td>999999.0</td>\n",
       "    </tr>\n",
       "  </tbody>\n",
       "</table>\n",
       "</div>"
      ],
      "text/plain": [
       "   DHSCLUST  Wealth Index           DHSID   longitude  latitude  \\\n",
       "0         1  -31881.60870  PH201700000001  122.109807  6.674652   \n",
       "1         2   -2855.37500  PH201700000002  122.132027  6.662256   \n",
       "2         3  -57647.04762  PH201700000003  122.179496  6.621822   \n",
       "3         4  -54952.66667  PH201700000004  122.137965  6.485298   \n",
       "5         6  -80701.69565  PH201700000006  121.916094  6.629457   \n",
       "\n",
       "                    geometry  poi_count  restaurant_count  restaurant_nearest  \\\n",
       "0  POINT (122.10981 6.67465)        0.0               0.0         5151.143562   \n",
       "1  POINT (122.13203 6.66226)        0.0               0.0         7787.461326   \n",
       "2  POINT (122.17950 6.62182)        0.0               0.0       999999.000000   \n",
       "3  POINT (122.13796 6.48530)        0.0               0.0       999999.000000   \n",
       "5  POINT (121.91609 6.62946)        0.0               0.0       999999.000000   \n",
       "\n",
       "   school_count  school_nearest  bank_count   bank_nearest  supermarket_count  \\\n",
       "0           0.0     3392.458241         0.0    3762.475794                0.0   \n",
       "1           0.0     5600.808072         0.0     965.901202                0.0   \n",
       "2           0.0     2641.308143         0.0    6025.856477                0.0   \n",
       "3           0.0     4287.469155         0.0  999999.000000                0.0   \n",
       "5           0.0     5930.529470         0.0  999999.000000                0.0   \n",
       "\n",
       "   supermarket_nearest  mall_count  mall_nearest  atm_count  atm_nearest  \n",
       "0             999999.0         0.0      999999.0        0.0     999999.0  \n",
       "1             999999.0         0.0      999999.0        0.0     999999.0  \n",
       "2             999999.0         0.0      999999.0        0.0     999999.0  \n",
       "3             999999.0         0.0      999999.0        0.0     999999.0  \n",
       "5             999999.0         0.0      999999.0        0.0     999999.0  "
      ]
     },
     "execution_count": 4,
     "metadata": {},
     "output_type": "execute_result"
    }
   ],
   "source": [
    "%%time\n",
    "gdf_with_features = osm.add_osm_features(gdf, \"philippines\", cache_dir=settings.CACHE_DIR)\n",
    "gdf_with_features.head()"
   ]
  },
  {
   "attachments": {},
   "cell_type": "markdown",
   "metadata": {},
   "source": [
    "Sanity check that the internal helper function can successfully download and cache OSM data for the DHS countries."
   ]
  },
  {
   "cell_type": "code",
   "execution_count": 5,
   "metadata": {},
   "outputs": [
    {
     "name": "stderr",
     "output_type": "stream",
     "text": [
      "2023-01-06 17:09:56.519 | INFO     | povertymapping.osm:download_osm_country_data:86 - OSM Data: Cached data available for philippines at /home/alron/unicef-ai4d-poverty-mapping/data/data_cache/osm/philippines? True\n",
      "2023-01-06 17:09:56.521 | INFO     | povertymapping.osm:download_osm_country_data:86 - OSM Data: Cached data available for cambodia at /home/alron/unicef-ai4d-poverty-mapping/data/data_cache/osm/cambodia? True\n",
      "2023-01-06 17:09:56.523 | INFO     | povertymapping.osm:download_osm_country_data:86 - OSM Data: Cached data available for east-timor at /home/alron/unicef-ai4d-poverty-mapping/data/data_cache/osm/east-timor? True\n",
      "2023-01-06 17:09:56.525 | INFO     | povertymapping.osm:download_osm_country_data:86 - OSM Data: Cached data available for myanmar at /home/alron/unicef-ai4d-poverty-mapping/data/data_cache/osm/myanmar? True\n"
     ]
    }
   ],
   "source": [
    "countries = [\n",
    "    \"philippines\", \"cambodia\", \"east-timor\", \"myanmar\"\n",
    "]\n",
    "\n",
    "for country in countries:\n",
    "    osm.download_osm_country_data(country, cache_dir=settings.CACHE_DIR)"
   ]
  },
  {
   "cell_type": "code",
   "execution_count": null,
   "metadata": {},
   "outputs": [],
   "source": []
  }
 ],
 "metadata": {
  "kernelspec": {
   "display_name": "Python 3",
   "language": "python",
   "name": "python3"
  },
  "language_info": {
   "codemirror_mode": {
    "name": "ipython",
    "version": 3
   },
   "file_extension": ".py",
   "mimetype": "text/x-python",
   "name": "python",
   "nbconvert_exporter": "python",
   "pygments_lexer": "ipython3",
   "version": "3.9.15"
  },
  "orig_nbformat": 4,
  "vscode": {
   "interpreter": {
    "hash": "d3b44cad9d156707029f996d40982c870f2dda9a24f90ef8d0603319a885159c"
   }
  }
 },
 "nbformat": 4,
 "nbformat_minor": 2
}
