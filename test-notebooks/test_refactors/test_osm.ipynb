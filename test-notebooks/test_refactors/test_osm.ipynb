{
 "cells": [
  {
   "attachments": {},
   "cell_type": "markdown",
   "metadata": {},
   "source": [
    "Temporary notebook to run and manually test the OSM feature generation function.\n",
    "\n",
    "PHL cluster-level data is taken from [GDrive](https://drive.google.com/drive/u/0/folders/1N9vSFX05bDWGolfsRjTTBUxGtuVP-77s)."
   ]
  },
  {
   "cell_type": "code",
   "execution_count": null,
   "metadata": {},
   "outputs": [],
   "source": [
    "%reload_ext autoreload\n",
    "%autoreload 2"
   ]
  },
  {
   "cell_type": "code",
   "execution_count": null,
   "metadata": {},
   "outputs": [],
   "source": [
    "import sys\n",
    "sys.path.append(\"../../../\")\n",
    "\n",
    "import uuid\n",
    "\n",
    "\n",
    "import geopandas as gpd\n",
    "import pandas as pd\n",
    "\n",
    "from povertymapping import settings, osm\n",
    "from povertymapping.osm import OsmDataManager"
   ]
  },
  {
   "attachments": {},
   "cell_type": "markdown",
   "metadata": {},
   "source": [
    "Load in temporary data for PHL clusters"
   ]
  },
  {
   "cell_type": "code",
   "execution_count": null,
   "metadata": {},
   "outputs": [],
   "source": [
    "def load_cluster_gdf(path):\n",
    "    df = pd.read_csv(path)\n",
    "\n",
    "    # Some of the coordinates in the data are invalid. This filters them out.\n",
    "    df = df[(df.longitude>0)&(df.latitude>0)]\n",
    "\n",
    "    # Create a GeoDataFrame from the longitude, latitude columns.\n",
    "    gdf = gpd.GeoDataFrame(df, geometry=gpd.points_from_xy(df.longitude, df.latitude), crs=\"epsg:4326\")\n",
    "\n",
    "    print(f\"There are {len(gdf):,} clusters.\")\n",
    "\n",
    "    return gdf"
   ]
  },
  {
   "cell_type": "code",
   "execution_count": null,
   "metadata": {},
   "outputs": [],
   "source": [
    "GROUND_TRUTH_CSV = settings.DATA_DIR/\"phl_dhs_cluster_level.csv\"\n",
    "gdf = load_cluster_gdf(GROUND_TRUTH_CSV)"
   ]
  },
  {
   "attachments": {},
   "cell_type": "markdown",
   "metadata": {},
   "source": [
    "Try the OSM feature generation function."
   ]
  },
  {
   "cell_type": "code",
   "execution_count": null,
   "metadata": {},
   "outputs": [],
   "source": [
    "%%time\n",
    "gdf_with_features = osm.add_osm_features(gdf, \"philippines\", cache_dir=settings.CACHE_DIR)\n",
    "gdf_with_features.head()"
   ]
  },
  {
   "attachments": {},
   "cell_type": "markdown",
   "metadata": {},
   "source": [
    "Sanity check that the internal helper function can successfully download and cache OSM data for the DHS countries."
   ]
  },
  {
   "cell_type": "code",
   "execution_count": null,
   "metadata": {},
   "outputs": [],
   "source": [
    "countries = [\n",
    "    \"philippines\", \"cambodia\", \"east-timor\", \"myanmar\"\n",
    "]\n",
    "\n",
    "for country in countries:\n",
    "    osm.download_osm_country_data(country, cache_dir=settings.CACHE_DIR)"
   ]
  },
  {
   "attachments": {},
   "cell_type": "markdown",
   "metadata": {},
   "source": [
    "# Roads"
   ]
  },
  {
   "cell_type": "code",
   "execution_count": null,
   "metadata": {},
   "outputs": [],
   "source": [
    "GROUND_TRUTH_CSV = settings.DATA_DIR/\"phl_dhs_cluster_level.csv\"\n",
    "aoi = load_cluster_gdf(GROUND_TRUTH_CSV)\n",
    "aoi[\"geometry\"] = aoi.to_crs(\"EPSG:3857\").geometry.buffer(2000).to_crs(\"epsg:4326\")"
   ]
  },
  {
   "cell_type": "code",
   "execution_count": null,
   "metadata": {},
   "outputs": [],
   "source": [
    "osm_data_manager = OsmDataManager(cache_dir=settings.CACHE_DIR)"
   ]
  },
  {
   "cell_type": "code",
   "execution_count": null,
   "metadata": {},
   "outputs": [],
   "source": [
    "\n",
    "country = \"philippines\"\n",
    "aoi_with_road_stats = osm.add_osm_poi_features(aoi, country, osm_data_manager)\n",
    "aoi_with_road_stats = osm.add_osm_road_features(aoi, country, osm_data_manager)\n",
    "aoi_with_road_stats.explore()"
   ]
  },
  {
   "cell_type": "code",
   "execution_count": null,
   "metadata": {},
   "outputs": [],
   "source": []
  }
 ],
 "metadata": {
  "kernelspec": {
   "display_name": "Python 3",
   "language": "python",
   "name": "python3"
  },
  "language_info": {
   "codemirror_mode": {
    "name": "ipython",
    "version": 3
   },
   "file_extension": ".py",
   "mimetype": "text/x-python",
   "name": "python",
   "nbconvert_exporter": "python",
   "pygments_lexer": "ipython3",
   "version": "3.9.15"
  },
  "orig_nbformat": 4,
  "vscode": {
   "interpreter": {
    "hash": "d3b44cad9d156707029f996d40982c870f2dda9a24f90ef8d0603319a885159c"
   }
  }
 },
 "nbformat": 4,
 "nbformat_minor": 2
}
