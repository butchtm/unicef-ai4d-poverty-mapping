{
 "cells": [
  {
   "cell_type": "code",
   "execution_count": null,
   "metadata": {},
   "outputs": [],
   "source": [
    "%reload_ext autoreload\n",
    "%autoreload 2"
   ]
  },
  {
   "cell_type": "code",
   "execution_count": null,
   "metadata": {},
   "outputs": [],
   "source": [
    "import sys\n",
    "sys.path.append(\"../../../\")\n",
    "\n",
    "import uuid\n",
    "\n",
    "import geopandas as gpd\n",
    "import pandas as pd\n",
    "from shapely import wkt\n",
    "\n",
    "from geowrangler import dhs\n",
    "from povertymapping import settings, osm\n",
    "from povertymapping.dhs import generate_dhs_cluster_level_data"
   ]
  },
  {
   "cell_type": "code",
   "execution_count": null,
   "metadata": {},
   "outputs": [],
   "source": [
    "# Try Philippines\n",
    "dhs_household_dta_path = settings.DATA_DIR/\"dhs/ph/PHHR71DT/PHHR71FL.DTA\"\n",
    "dhs_geographic_shp_path = settings.DATA_DIR/\"dhs/ph/PHGE71FL/PHGE71FL.shp\"\n",
    "dhs_ph_gdf = generate_dhs_cluster_level_data(\n",
    "    dhs_household_dta_path, \n",
    "    dhs_geographic_shp_path, \n",
    "    col_rename_config=\"ph\",\n",
    "    convert_geoms_to_bbox=True\n",
    ")\n",
    "dhs_ph_gdf.explore()"
   ]
  },
  {
   "cell_type": "code",
   "execution_count": null,
   "metadata": {},
   "outputs": [],
   "source": [
    "# Try Cambodia\n",
    "dhs_household_dta_path = settings.DATA_DIR/\"dhs/kh/KHHR73DT/KHHR73FL.DTA\"\n",
    "dhs_geographic_shp_path = settings.DATA_DIR/\"dhs/kh/KHGE71FL/KHGE71FL.shp\"\n",
    "dhs_kh_gdf = generate_dhs_cluster_level_data(\n",
    "    dhs_household_dta_path, \n",
    "    dhs_geographic_shp_path, \n",
    "    col_rename_config=\"kh\",\n",
    "    convert_geoms_to_bbox=True\n",
    ")\n",
    "dhs_kh_gdf.explore()"
   ]
  },
  {
   "cell_type": "code",
   "execution_count": null,
   "metadata": {},
   "outputs": [],
   "source": [
    "# Try Myanmar\n",
    "dhs_household_dta_path = settings.DATA_DIR/\"dhs/mm/MMHR71DT/MMHR71FL.DTA\"\n",
    "dhs_geographic_shp_path = settings.DATA_DIR/\"dhs/mm/MMGE71FL/MMGE71FL.shp\"\n",
    "dhs_mm_gdf = generate_dhs_cluster_level_data(\n",
    "    dhs_household_dta_path, \n",
    "    dhs_geographic_shp_path, \n",
    "    col_rename_config=\"mm\",\n",
    "    convert_geoms_to_bbox=True\n",
    ")\n",
    "dhs_mm_gdf.explore()"
   ]
  },
  {
   "cell_type": "code",
   "execution_count": null,
   "metadata": {},
   "outputs": [],
   "source": [
    "# Try Timor Leste\n",
    "dhs_household_dta_path = settings.DATA_DIR/\"dhs/tl/TLHR71DT/TLHR71FL.DTA\"\n",
    "dhs_geographic_shp_path = settings.DATA_DIR/\"dhs/tl/TLGE71FL/TLGE71FL.shp\"\n",
    "dhs_tl_gdf = generate_dhs_cluster_level_data(\n",
    "    dhs_household_dta_path, \n",
    "    dhs_geographic_shp_path, \n",
    "    col_rename_config=\"tl\",\n",
    "    convert_geoms_to_bbox=True\n",
    ")\n",
    "dhs_tl_gdf.explore()"
   ]
  },
  {
   "cell_type": "code",
   "execution_count": null,
   "metadata": {},
   "outputs": [],
   "source": []
  }
 ],
 "metadata": {
  "kernelspec": {
   "display_name": "Python 3",
   "language": "python",
   "name": "python3"
  },
  "language_info": {
   "codemirror_mode": {
    "name": "ipython",
    "version": 3
   },
   "file_extension": ".py",
   "mimetype": "text/x-python",
   "name": "python",
   "nbconvert_exporter": "python",
   "pygments_lexer": "ipython3",
   "version": "3.9.15"
  },
  "orig_nbformat": 4,
  "vscode": {
   "interpreter": {
    "hash": "d3b44cad9d156707029f996d40982c870f2dda9a24f90ef8d0603319a885159c"
   }
  }
 },
 "nbformat": 4,
 "nbformat_minor": 2
}
