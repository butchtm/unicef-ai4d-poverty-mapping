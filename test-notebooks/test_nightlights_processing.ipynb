{
 "cells": [
  {
   "cell_type": "markdown",
   "id": "58138b4b-645f-4037-a8f9-e59ab9861dae",
   "metadata": {},
   "source": [
    "## EOG Programmatic Access\n",
    "* ntlights metadata:  https://eogdata.mines.edu/products/vnl/\n",
    "* directory url:  https://eogdata.mines.edu/nighttime_light/annual/v21/\n",
    "* sample link (size 9.7GB):  https://eogdata.mines.edu/nighttime_light/annual/v21/2014/VNL_v21_npp_2014_global_vcmslcfg_c202205302300.average.dat.tif.gz\n",
    "* sample mask link (size 267 MB): https://eogdata.mines.edu/nighttime_light/annual/v21/2014/VNL_v21_npp_2014_global_vcmslcfg_c202205302300.average_masked.dat.tif.gz"
   ]
  },
  {
   "cell_type": "code",
   "execution_count": 1,
   "id": "e6bfc28b-fefb-43f7-bb55-b746e0363ddd",
   "metadata": {},
   "outputs": [],
   "source": [
    "from povertymapping.nightlights import *"
   ]
  },
  {
   "cell_type": "code",
   "execution_count": 2,
   "id": "7902234f-047c-4b3f-b6a1-d3ed07e35c00",
   "metadata": {
    "tags": []
   },
   "outputs": [],
   "source": [
    "import geopandas as gpd\n",
    "import os"
   ]
  },
  {
   "cell_type": "markdown",
   "id": "5626a1a1-dde3-4e23-af7c-d1d22787cf5c",
   "metadata": {},
   "source": [
    "* To get an EOG User and Password, [register here](https://eogdata.mines.edu/products/register/index.html)"
   ]
  },
  {
   "cell_type": "markdown",
   "id": "6c0819c1-172a-41f6-8625-2206332862d2",
   "metadata": {},
   "source": [
    "* (Optional) To avoid having to login each time, use [direnv](https://direnv.net/) and create a `.envrc` (environment direnv file)  that contains\n",
    "```\n",
    "EXPORT EOG_USER=<your-eog-user-name>\n",
    "EXPORT EOG_PASSWORD=<your-eog-password>\n",
    "```"
   ]
  },
  {
   "cell_type": "code",
   "execution_count": 3,
   "id": "0ca7e7f2-365a-45d5-9883-4c638b9c223a",
   "metadata": {},
   "outputs": [],
   "source": [
    "username = os.environ.get('EOG_USER',None)\n",
    "username = username if username is not None else input('Username?')\n",
    "password = os.environ.get('EOG_PASSWORD',None)\n",
    "password = password if password is not None else getpass.getpass('Password?') "
   ]
  },
  {
   "cell_type": "code",
   "execution_count": 4,
   "id": "338d3bd3-fef7-46e8-9075-093553e93363",
   "metadata": {},
   "outputs": [],
   "source": [
    "# set save_token to True so that access token gets stored in ~/.eog_creds/eog_access_token\n",
    "access_token = get_eog_access_token(username,password, save_token=True)"
   ]
  },
  {
   "cell_type": "code",
   "execution_count": 5,
   "id": "87752cd5-645a-4058-a520-5a783075e554",
   "metadata": {},
   "outputs": [],
   "source": [
    "main_file = \"phl_admbnda_adm3_psa_namria_20200529\"\n",
    "phl_admin3_file = \"phl_adminboundaries_candidate_adm3\"\n",
    "phl_admin3_shp = f\"../data/SVII_PH_KH_MM_TL/ph/hdx_ph/{phl_admin3_file}/{main_file}.shp\""
   ]
  },
  {
   "cell_type": "code",
   "execution_count": 6,
   "id": "281fd0d1-9c18-43d6-bbde-8ba8afd26a2f",
   "metadata": {},
   "outputs": [
    {
     "name": "stdout",
     "output_type": "stream",
     "text": [
      "CPU times: user 3.15 s, sys: 426 ms, total: 3.58 s\n",
      "Wall time: 3.58 s\n"
     ]
    }
   ],
   "source": [
    "%%time\n",
    "admin3 = gpd.read_file(phl_admin3_shp)"
   ]
  },
  {
   "cell_type": "code",
   "execution_count": 13,
   "id": "8fa5b638-ffb7-4cea-8939-31c24516f0ef",
   "metadata": {},
   "outputs": [
    {
     "name": "stdout",
     "output_type": "stream",
     "text": [
      "CPU times: user 18.8 s, sys: 9.13 s, total: 27.9 s\n",
      "Wall time: 29.1 s\n"
     ]
    }
   ],
   "source": [
    "%%time\n",
    "admin3 = generate_nightlights_feature(admin3, '2017')"
   ]
  },
  {
   "cell_type": "code",
   "execution_count": 14,
   "id": "a06c4d22-7151-4b14-952d-13c1ebde2dc8",
   "metadata": {},
   "outputs": [
    {
     "name": "stdout",
     "output_type": "stream",
     "text": [
      "CPU times: user 17.5 s, sys: 1.18 s, total: 18.7 s\n",
      "Wall time: 18.7 s\n"
     ]
    }
   ],
   "source": [
    "%%time\n",
    "admin3 = generate_nightlights_feature(admin3, '2017')"
   ]
  }
 ],
 "metadata": {
  "kernelspec": {
   "display_name": "Python 3 (ipykernel)",
   "language": "python",
   "name": "python3"
  },
  "language_info": {
   "codemirror_mode": {
    "name": "ipython",
    "version": 3
   },
   "file_extension": ".py",
   "mimetype": "text/x-python",
   "name": "python",
   "nbconvert_exporter": "python",
   "pygments_lexer": "ipython3",
   "version": "3.9.13"
  }
 },
 "nbformat": 4,
 "nbformat_minor": 5
}
