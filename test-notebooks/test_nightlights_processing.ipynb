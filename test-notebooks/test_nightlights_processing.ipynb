{
 "cells": [
  {
   "cell_type": "markdown",
   "id": "58138b4b-645f-4037-a8f9-e59ab9861dae",
   "metadata": {},
   "source": [
    "## EOG Programmatic Access\n",
    "* ntlights metadata:  https://eogdata.mines.edu/products/vnl/\n",
    "* directory url:  https://eogdata.mines.edu/nighttime_light/annual/v21/\n",
    "* sample link (size 9.7GB):  https://eogdata.mines.edu/nighttime_light/annual/v21/2014/VNL_v21_npp_2014_global_vcmslcfg_c202205302300.average.dat.tif.gz\n",
    "* sample mask link (size 267 MB): https://eogdata.mines.edu/nighttime_light/annual/v21/2014/VNL_v21_npp_2014_global_vcmslcfg_c202205302300.average_masked.dat.tif.gz"
   ]
  },
  {
   "cell_type": "code",
   "execution_count": 1,
   "id": "e6bfc28b-fefb-43f7-bb55-b746e0363ddd",
   "metadata": {},
   "outputs": [],
   "source": [
    "from povertymapping.nightlights import *"
   ]
  },
  {
   "cell_type": "code",
   "execution_count": 2,
   "id": "7902234f-047c-4b3f-b6a1-d3ed07e35c00",
   "metadata": {
    "tags": []
   },
   "outputs": [],
   "source": [
    "import geopandas as gpd\n",
    "import os"
   ]
  },
  {
   "cell_type": "markdown",
   "id": "5626a1a1-dde3-4e23-af7c-d1d22787cf5c",
   "metadata": {},
   "source": [
    "* To get an EOG User and Password, [register here](https://eogdata.mines.edu/products/register/index.html)"
   ]
  },
  {
   "cell_type": "markdown",
   "id": "6c0819c1-172a-41f6-8625-2206332862d2",
   "metadata": {},
   "source": [
    "* (Optional) To avoid having to login each time, use [direnv](https://direnv.net/) and create a `.envrc` (environment direnv file)  that contains\n",
    "```\n",
    "EXPORT EOG_USER=<your-eog-user-name>\n",
    "EXPORT EOG_PASSWORD=<your-eog-password>\n",
    "```"
   ]
  },
  {
   "cell_type": "code",
   "execution_count": 3,
   "id": "0ca7e7f2-365a-45d5-9883-4c638b9c223a",
   "metadata": {},
   "outputs": [],
   "source": [
    "username = os.environ.get('EOG_USER',None)\n",
    "username = username if username is not None else input('Username?')\n",
    "password = os.environ.get('EOG_PASSWORD',None)\n",
    "password = password if password is not None else getpass.getpass('Password?') "
   ]
  },
  {
   "cell_type": "code",
   "execution_count": 4,
   "id": "338d3bd3-fef7-46e8-9075-093553e93363",
   "metadata": {},
   "outputs": [
    {
     "name": "stderr",
     "output_type": "stream",
     "text": [
      "2023-01-13 12:06:57.473 | INFO     | povertymapping.nightlights:get_eog_access_token:46 - Saving access_token to ~/.eog_creds/eog_access_token\n",
      "2023-01-13 12:06:57.478 | INFO     | povertymapping.nightlights:get_eog_access_token:54 - Adding access token to environmentt var EOG_ACCESS_TOKEN\n"
     ]
    }
   ],
   "source": [
    "# set save_token to True so that access token gets stored in ~/.eog_creds/eog_access_token\n",
    "access_token = get_eog_access_token(username,password, save_token=True)"
   ]
  },
  {
   "cell_type": "code",
   "execution_count": 5,
   "id": "87752cd5-645a-4058-a520-5a783075e554",
   "metadata": {},
   "outputs": [],
   "source": [
    "main_file = \"phl_admbnda_adm3_psa_namria_20200529\"\n",
    "phl_admin3_file = \"phl_adminboundaries_candidate_adm3\"\n",
    "phl_admin3_shp = f\"../data/SVII_PH_KH_MM_TL/ph/hdx_ph/{phl_admin3_file}/{main_file}.shp\""
   ]
  },
  {
   "cell_type": "code",
   "execution_count": 6,
   "id": "281fd0d1-9c18-43d6-bbde-8ba8afd26a2f",
   "metadata": {},
   "outputs": [
    {
     "name": "stdout",
     "output_type": "stream",
     "text": [
      "CPU times: user 3.83 s, sys: 698 ms, total: 4.52 s\n",
      "Wall time: 4.75 s\n"
     ]
    }
   ],
   "source": [
    "%%time\n",
    "admin3 = gpd.read_file(phl_admin3_shp)"
   ]
  },
  {
   "cell_type": "code",
   "execution_count": 7,
   "id": "4666a68c-394e-4e97-a394-f35547227c79",
   "metadata": {},
   "outputs": [
    {
     "data": {
      "text/plain": [
       "\u001b[0;31mSignature:\u001b[0m\n",
       "\u001b[0mgenerate_nightlights_feature\u001b[0m\u001b[0;34m(\u001b[0m\u001b[0;34m\u001b[0m\n",
       "\u001b[0;34m\u001b[0m    \u001b[0maoi\u001b[0m\u001b[0;34m,\u001b[0m\u001b[0;34m\u001b[0m\n",
       "\u001b[0;34m\u001b[0m    \u001b[0myear\u001b[0m\u001b[0;34m,\u001b[0m\u001b[0;34m\u001b[0m\n",
       "\u001b[0;34m\u001b[0m    \u001b[0mviirs_data_type\u001b[0m\u001b[0;34m=\u001b[0m\u001b[0;34m'average'\u001b[0m\u001b[0;34m,\u001b[0m\u001b[0;34m\u001b[0m\n",
       "\u001b[0;34m\u001b[0m    \u001b[0mversion\u001b[0m\u001b[0;34m=\u001b[0m\u001b[0;34m'v21'\u001b[0m\u001b[0;34m,\u001b[0m\u001b[0;34m\u001b[0m\n",
       "\u001b[0;34m\u001b[0m    \u001b[0mproduct\u001b[0m\u001b[0;34m=\u001b[0m\u001b[0;34m'annual'\u001b[0m\u001b[0;34m,\u001b[0m\u001b[0;34m\u001b[0m\n",
       "\u001b[0;34m\u001b[0m    \u001b[0mcoverage\u001b[0m\u001b[0;34m=\u001b[0m\u001b[0;34m'global'\u001b[0m\u001b[0;34m,\u001b[0m\u001b[0;34m\u001b[0m\n",
       "\u001b[0;34m\u001b[0m    \u001b[0mcache_dir\u001b[0m\u001b[0;34m=\u001b[0m\u001b[0;34m'~/.geowrangler/nightlights'\u001b[0m\u001b[0;34m,\u001b[0m\u001b[0;34m\u001b[0m\n",
       "\u001b[0;34m\u001b[0m    \u001b[0mextra_args\u001b[0m\u001b[0;34m=\u001b[0m\u001b[0;34m{\u001b[0m\u001b[0;34m'band_num'\u001b[0m\u001b[0;34m:\u001b[0m \u001b[0;36m1\u001b[0m\u001b[0;34m,\u001b[0m \u001b[0;34m'nodata'\u001b[0m\u001b[0;34m:\u001b[0m \u001b[0;34m-\u001b[0m\u001b[0;36m999\u001b[0m\u001b[0;34m}\u001b[0m\u001b[0;34m,\u001b[0m\u001b[0;34m\u001b[0m\n",
       "\u001b[0;34m\u001b[0m    \u001b[0mfunc\u001b[0m\u001b[0;34m=\u001b[0m\u001b[0;34m[\u001b[0m\u001b[0;34m'min'\u001b[0m\u001b[0;34m,\u001b[0m \u001b[0;34m'max'\u001b[0m\u001b[0;34m,\u001b[0m \u001b[0;34m'mean'\u001b[0m\u001b[0;34m,\u001b[0m \u001b[0;34m'median'\u001b[0m\u001b[0;34m,\u001b[0m \u001b[0;34m'std'\u001b[0m\u001b[0;34m]\u001b[0m\u001b[0;34m,\u001b[0m\u001b[0;34m\u001b[0m\n",
       "\u001b[0;34m\u001b[0m    \u001b[0mcolumn\u001b[0m\u001b[0;34m=\u001b[0m\u001b[0;34m'avg_rad'\u001b[0m\u001b[0;34m,\u001b[0m\u001b[0;34m\u001b[0m\n",
       "\u001b[0;34m\u001b[0m    \u001b[0mcopy\u001b[0m\u001b[0;34m=\u001b[0m\u001b[0;32mFalse\u001b[0m\u001b[0;34m,\u001b[0m\u001b[0;34m\u001b[0m\n",
       "\u001b[0;34m\u001b[0m\u001b[0;34m)\u001b[0m\u001b[0;34m\u001b[0m\u001b[0;34m\u001b[0m\u001b[0m\n",
       "\u001b[0;31mDocstring:\u001b[0m <no docstring>\n",
       "\u001b[0;31mFile:\u001b[0m      ~/work/povmap/unicef-ai4d-poverty-mapping/povertymapping/nightlights.py\n",
       "\u001b[0;31mType:\u001b[0m      function\n"
      ]
     },
     "metadata": {},
     "output_type": "display_data"
    }
   ],
   "source": [
    "generate_nightlights_feature?"
   ]
  },
  {
   "cell_type": "code",
   "execution_count": 8,
   "id": "8fa5b638-ffb7-4cea-8939-31c24516f0ef",
   "metadata": {
    "tags": []
   },
   "outputs": [
    {
     "name": "stderr",
     "output_type": "stream",
     "text": [
      "2023-01-13 12:10:26.460 | INFO     | povertymapping.nightlights:download_url:143 - Using access token from environment var EOG_ACCESS_TOKEN\n",
      "2023-01-13 12:10:28.859 | INFO     | povertymapping.nightlights:urlretrieve:86 - Retrieving https://eogdata.mines.edu/nighttime_light/annual/v21/2017/VNL_v21_npp_2017_global_vcmslcfg_c202205302300.average.dat.tif.gz into /home/butchtm/.geowrangler/nightlights/global/VNL_v21_npp_2017_global_vcmslcfg_c202205302300.average.dat.tif.gz\n"
     ]
    },
    {
     "data": {
      "text/html": [
       "\n",
       "<style>\n",
       "    /* Turns off some styling */\n",
       "    progress {\n",
       "        /* gets rid of default border in Firefox and Opera. */\n",
       "        border: none;\n",
       "        /* Needs to be in here for Safari polyfill so background images work as expected. */\n",
       "        background-size: auto;\n",
       "    }\n",
       "    progress:not([value]), progress:not([value])::-webkit-progress-bar {\n",
       "        background: repeating-linear-gradient(45deg, #7e7e7e, #7e7e7e 10px, #5c5c5c 10px, #5c5c5c 20px);\n",
       "    }\n",
       "    .progress-bar-interrupted, .progress-bar-interrupted::-webkit-progress-bar {\n",
       "        background: #F44336;\n",
       "    }\n",
       "</style>\n"
      ],
      "text/plain": [
       "<IPython.core.display.HTML object>"
      ]
     },
     "metadata": {},
     "output_type": "display_data"
    },
    {
     "data": {
      "text/html": [
       "\n",
       "    <div>\n",
       "      <progress value='9824108544' class='' max='9823151653' style='width:300px; height:20px; vertical-align: middle;'></progress>\n",
       "      100.01% [9824108544/9823151653 23:47&lt;00:00]\n",
       "    </div>\n",
       "    "
      ],
      "text/plain": [
       "<IPython.core.display.HTML object>"
      ]
     },
     "metadata": {},
     "output_type": "display_data"
    },
    {
     "name": "stderr",
     "output_type": "stream",
     "text": [
      "2023-01-13 12:34:16.168 | INFO     | povertymapping.nightlights:unzip_eog_gzip:206 - Unzipping /home/butchtm/.geowrangler/nightlights/global/VNL_v21_npp_2017_global_vcmslcfg_c202205302300.average.dat.tif.gz into /home/butchtm/.geowrangler/nightlights/global/VNL_v21_npp_2017_global_vcmslcfg_c202205302300.average.dat.tif\n",
      "2023-01-13 12:36:16.339 | INFO     | povertymapping.nightlights:unzip_eog_gzip:217 - Deleting /home/butchtm/.geowrangler/nightlights/global/VNL_v21_npp_2017_global_vcmslcfg_c202205302300.average.dat.tif.gz\n",
      "2023-01-13 12:36:16.738 | INFO     | povertymapping.nightlights:clip_raster:230 - Generating clipped raster file from /home/butchtm/.geowrangler/nightlights/global/VNL_v21_npp_2017_global_vcmslcfg_c202205302300.average.dat.tif to /home/butchtm/.geowrangler/nightlights/clip/69327d27fd9cdc1bc53797c3ecbc3c3f.tif with bounds [114.27789225   4.5872945  126.6049656   21.12188548] and buffer 0.1\n",
      "2023-01-13 12:36:20.628 | INFO     | povertymapping.nightlights:generate_clipped_metadata:321 - Adding metadata.json file /home/butchtm/.geowrangler/nightlights/clip/69327d27fd9cdc1bc53797c3ecbc3c3f.metadata.json\n"
     ]
    },
    {
     "name": "stdout",
     "output_type": "stream",
     "text": [
      "CPU times: user 2min 55s, sys: 1min 46s, total: 4min 42s\n",
      "Wall time: 26min 17s\n"
     ]
    }
   ],
   "source": [
    "%%time\n",
    "admin3_copy = generate_nightlights_feature(admin3, '2017', copy=True)"
   ]
  },
  {
   "cell_type": "code",
   "execution_count": 9,
   "id": "4bf8f7b6-49ba-4802-8555-4f66ff6025c5",
   "metadata": {},
   "outputs": [
    {
     "data": {
      "text/plain": [
       "1.2053626557778045"
      ]
     },
     "execution_count": 9,
     "metadata": {},
     "output_type": "execute_result"
    }
   ],
   "source": [
    "admin3_copy.avg_rad_mean.mean()"
   ]
  },
  {
   "cell_type": "code",
   "execution_count": 10,
   "id": "a06c4d22-7151-4b14-952d-13c1ebde2dc8",
   "metadata": {},
   "outputs": [
    {
     "name": "stderr",
     "output_type": "stream",
     "text": [
      "2023-01-13 12:36:43.827 | INFO     | povertymapping.nightlights:get_clipped_raster:340 - Retrieving clipped raster file /home/butchtm/.geowrangler/nightlights/clip/69327d27fd9cdc1bc53797c3ecbc3c3f.tif\n"
     ]
    },
    {
     "name": "stdout",
     "output_type": "stream",
     "text": [
      "CPU times: user 18 s, sys: 1.77 s, total: 19.8 s\n",
      "Wall time: 19.8 s\n"
     ]
    }
   ],
   "source": [
    "%%time\n",
    "admin3_copy2 = generate_nightlights_feature(admin3, '2017')"
   ]
  },
  {
   "cell_type": "code",
   "execution_count": 11,
   "id": "567c30ff-bce1-4df6-9b20-f3feb247d31e",
   "metadata": {},
   "outputs": [
    {
     "data": {
      "text/plain": [
       "1.2053626557778045"
      ]
     },
     "execution_count": 11,
     "metadata": {},
     "output_type": "execute_result"
    }
   ],
   "source": [
    "admin3_copy2.avg_rad_mean.mean()"
   ]
  },
  {
   "cell_type": "code",
   "execution_count": null,
   "id": "5ae2e25a-cc80-43b1-97b8-0bd6e54d502c",
   "metadata": {},
   "outputs": [],
   "source": []
  }
 ],
 "metadata": {
  "kernelspec": {
   "display_name": "Python 3 (ipykernel)",
   "language": "python",
   "name": "python3"
  },
  "language_info": {
   "codemirror_mode": {
    "name": "ipython",
    "version": 3
   },
   "file_extension": ".py",
   "mimetype": "text/x-python",
   "name": "python",
   "nbconvert_exporter": "python",
   "pygments_lexer": "ipython3",
   "version": "3.9.13"
  }
 },
 "nbformat": 4,
 "nbformat_minor": 5
}
