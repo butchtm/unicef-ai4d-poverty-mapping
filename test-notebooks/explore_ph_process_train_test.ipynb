{
 "cells": [
  {
   "cell_type": "raw",
   "id": "86b17401-c0cb-4a8e-ba0c-44a6aab4a38c",
   "metadata": {},
   "source": [
    "---\n",
    "title: Explore Process TrainTest Philippines\n",
    "format:\n",
    "  html:\n",
    "    code-fold: false\n",
    "---"
   ]
  },
  {
   "cell_type": "markdown",
   "id": "993b7544-dbb2-4762-9270-825ebdca0a62",
   "metadata": {
    "tags": []
   },
   "source": [
    "> exploration of the philippine traintest data in `data/outputs/training_ph` \n"
   ]
  },
  {
   "cell_type": "code",
   "execution_count": 13,
   "id": "c2b67124-951b-4675-bb47-76ef61578a89",
   "metadata": {
    "tags": []
   },
   "outputs": [],
   "source": [
    "%reload_ext autoreload\n",
    "%autoreload 2"
   ]
  },
  {
   "cell_type": "code",
   "execution_count": 14,
   "id": "c3f9a246-e3d7-4f25-8f01-012bafd64a1f",
   "metadata": {},
   "outputs": [],
   "source": [
    "import pandas as pd\n",
    "import geopandas as gpd\n",
    "import shutil\n",
    "from pathlib import Path\n",
    "import os"
   ]
  },
  {
   "cell_type": "code",
   "execution_count": 15,
   "id": "98331472-4d60-4468-b8c9-767ffcb228b4",
   "metadata": {},
   "outputs": [],
   "source": [
    "import povertymapping.process_train_test as ptrain"
   ]
  },
  {
   "cell_type": "code",
   "execution_count": 16,
   "id": "7fcd2936-832a-49d8-b678-8356801c4135",
   "metadata": {},
   "outputs": [],
   "source": [
    "import sys"
   ]
  },
  {
   "cell_type": "code",
   "execution_count": 17,
   "id": "2e6b8328-40c5-4454-aa7d-79e27446d5e0",
   "metadata": {},
   "outputs": [],
   "source": [
    "config = dict(\n",
    "        save_path=\"../data/outputs/traintest_ph\", # output directory\n",
    "        dhs_geo_zip_folder=\"PHGE71FL\", # folder holding DHS shape files\n",
    "        use_ntl=True,\n",
    "        use_filt_clt=False,\n",
    "        multiprocess=False,\n",
    "        ntl_path = \"ph_2017_viirs_avg_rad_zonal_stats\",\n",
    "        sample=False,\n",
    "        no_samples=60,\n",
    "        random_sample=False,\n",
    "        random_seed=42,\n",
    "        crs=\"4683\",\n",
    "        clust_rad=2000\n",
    "\n",
    "    )\n",
    "\n",
    "# you can also create a yaml file or json file\n",
    "# and load it in."
   ]
  },
  {
   "cell_type": "markdown",
   "id": "5eaba4d5-5f28-49ae-8fa0-fe6fc4babfcc",
   "metadata": {},
   "source": [
    "Run the `process_train_test`, passing your config object"
   ]
  },
  {
   "cell_type": "code",
   "execution_count": 18,
   "id": "13a81482-d738-494b-9a1b-6725373b7493",
   "metadata": {},
   "outputs": [],
   "source": [
    "# uncomment and run the following to clear out the preprocessed files \n",
    "!rm -rf {config['save_path']}\n",
    "!mkdir -p {config['save_path']}"
   ]
  },
  {
   "cell_type": "code",
   "execution_count": 19,
   "id": "32bfa77f-59c2-4ddd-8eff-f78e9cb7a329",
   "metadata": {},
   "outputs": [],
   "source": [
    "save_path = config['save_path']"
   ]
  },
  {
   "cell_type": "code",
   "execution_count": 20,
   "id": "402dbebb-6ab7-4d52-9853-c390252aeea0",
   "metadata": {},
   "outputs": [
    {
     "data": {
      "text/plain": [
       "'../data/outputs/traintest_ph/data_labels.csv'"
      ]
     },
     "execution_count": 20,
     "metadata": {},
     "output_type": "execute_result"
    }
   ],
   "source": [
    "shutil.rmtree(save_path, ignore_errors=True)\n",
    "#\n",
    "os.makedirs(Path(save_path))\n",
    "# copy dhs preproc data from output of tl process_dhs_data - TLGE71FL_cluster_coords.csv to save path\n",
    "shutil.copy(\"../data/outputs/dhs_ph/PHGE71FL_cluster_coords.csv\",(Path(save_path)/\"PHGE71FL_cluster_coords.csv\").as_posix())\n",
    "shutil.copy(\"../data/outputs/osm_ph/PHGE71FL_cluster_coords_osm_agg.csv\",(Path(save_path)/\"PHGE71FL_cluster_coords_osm_agg.csv\").as_posix())\n",
    "shutil.copy(\"../data/outputs/viirs_ph/ph_2017_viirs_avg_rad_zonal_stats.csv\",(Path(save_path)/\"ph_2017_viirs_avg_rad_zonal_stats.csv\").as_posix())\n",
    "shutil.copy(\"../data/outputs/training_ph/data_labels.csv\",(Path(save_path)/\"data_labels.csv\").as_posix())\n"
   ]
  },
  {
   "cell_type": "code",
   "execution_count": 21,
   "id": "de60847e-d52f-438e-8ef9-9b5013516f2f",
   "metadata": {
    "tags": []
   },
   "outputs": [],
   "source": [
    "# !cp ../data/outputs/dhs_tl/{ookla_config['dhs_geo_zip_folder']}_cluster_coords.csv {ookla_config['save_path']}/."
   ]
  },
  {
   "cell_type": "code",
   "execution_count": 22,
   "id": "2b0e3f5f-f368-4377-88e8-712a6986a2dc",
   "metadata": {},
   "outputs": [
    {
     "name": "stdout",
     "output_type": "stream",
     "text": [
      "Saving pickled files...\n",
      "CPU times: user 76.5 ms, sys: 0 ns, total: 76.5 ms\n",
      "Wall time: 75.2 ms\n"
     ]
    },
    {
     "name": "stderr",
     "output_type": "stream",
     "text": [
      "/home/butchtm/work/povmap/unicef-ai4d-poverty-mapping/povertymapping/process_train_test.py:190: SettingWithCopyWarning: \n",
      "A value is trying to be set on a copy of a slice from a DataFrame.\n",
      "Try using .loc[row_indexer,col_indexer] = value instead\n",
      "\n",
      "See the caveats in the documentation: https://pandas.pydata.org/pandas-docs/stable/user_guide/indexing.html#returning-a-view-versus-a-copy\n",
      "  data_final[replace_na_col] = data_final[replace_na_col].fillna(0)\n"
     ]
    }
   ],
   "source": [
    "%%time\n",
    "ptrain.process_train_test(config)"
   ]
  },
  {
   "cell_type": "markdown",
   "id": "30db0c2e-7f9a-4c51-a521-5f170d9e8cdd",
   "metadata": {},
   "source": [
    "Check that the preprocessed files have been created"
   ]
  },
  {
   "cell_type": "code",
   "execution_count": 23,
   "id": "e210f464-7532-4c12-91ae-f13f6f4c78ee",
   "metadata": {},
   "outputs": [],
   "source": [
    "from pathlib import Path"
   ]
  },
  {
   "cell_type": "code",
   "execution_count": 24,
   "id": "25c8346f-3910-42cf-8c41-d823887d8b7c",
   "metadata": {},
   "outputs": [],
   "source": [
    "data_labels_df = pd.read_csv(Path(save_path)/'data_labels.csv')"
   ]
  },
  {
   "cell_type": "code",
   "execution_count": 25,
   "id": "292b0cf9-eb7b-4db0-87c5-81671cba390d",
   "metadata": {},
   "outputs": [],
   "source": [
    "final_df = pd.read_pickle(Path(config['save_path'])/'data_final.pkl')"
   ]
  },
  {
   "cell_type": "code",
   "execution_count": 26,
   "id": "904a7e47-127e-4cea-98dc-6d5937580be3",
   "metadata": {},
   "outputs": [
    {
     "data": {
      "text/plain": [
       "1249"
      ]
     },
     "execution_count": 26,
     "metadata": {},
     "output_type": "execute_result"
    }
   ],
   "source": [
    "len(final_df)"
   ]
  },
  {
   "cell_type": "code",
   "execution_count": 27,
   "id": "ca45a167-24fd-4494-be52-5642e39076c3",
   "metadata": {},
   "outputs": [
    {
     "data": {
      "text/html": [
       "<div>\n",
       "<style scoped>\n",
       "    .dataframe tbody tr th:only-of-type {\n",
       "        vertical-align: middle;\n",
       "    }\n",
       "\n",
       "    .dataframe tbody tr th {\n",
       "        vertical-align: top;\n",
       "    }\n",
       "\n",
       "    .dataframe thead th {\n",
       "        text-align: right;\n",
       "    }\n",
       "</style>\n",
       "<table border=\"1\" class=\"dataframe\">\n",
       "  <thead>\n",
       "    <tr style=\"text-align: right;\">\n",
       "      <th></th>\n",
       "      <th>DHSID</th>\n",
       "      <th>Wealth Index</th>\n",
       "      <th>Unnamed: 0</th>\n",
       "      <th>building_ct</th>\n",
       "      <th>no_roads</th>\n",
       "      <th>no_primary_roads</th>\n",
       "      <th>no_trunk_roads</th>\n",
       "      <th>marketplace_count</th>\n",
       "      <th>charging_station_count</th>\n",
       "      <th>post_box_count</th>\n",
       "      <th>...</th>\n",
       "      <th>camp_site_count</th>\n",
       "      <th>city_count</th>\n",
       "      <th>convenience_count</th>\n",
       "      <th>supermarket_count</th>\n",
       "      <th>car_repair_count</th>\n",
       "      <th>department_store_count</th>\n",
       "      <th>computer_count</th>\n",
       "      <th>playground_count</th>\n",
       "      <th>monument_count</th>\n",
       "      <th>avg_d_mbps</th>\n",
       "    </tr>\n",
       "  </thead>\n",
       "  <tbody>\n",
       "    <tr>\n",
       "      <th>0</th>\n",
       "      <td>PH201700000001</td>\n",
       "      <td>-31881.608696</td>\n",
       "      <td>0</td>\n",
       "      <td>20</td>\n",
       "      <td>23</td>\n",
       "      <td>2</td>\n",
       "      <td>0</td>\n",
       "      <td>0</td>\n",
       "      <td>0</td>\n",
       "      <td>0</td>\n",
       "      <td>...</td>\n",
       "      <td>0</td>\n",
       "      <td>0</td>\n",
       "      <td>0</td>\n",
       "      <td>0</td>\n",
       "      <td>0</td>\n",
       "      <td>0</td>\n",
       "      <td>0</td>\n",
       "      <td>0</td>\n",
       "      <td>0</td>\n",
       "      <td>0.765000</td>\n",
       "    </tr>\n",
       "    <tr>\n",
       "      <th>1</th>\n",
       "      <td>PH201700000002</td>\n",
       "      <td>-2855.375000</td>\n",
       "      <td>1</td>\n",
       "      <td>250</td>\n",
       "      <td>105</td>\n",
       "      <td>8</td>\n",
       "      <td>0</td>\n",
       "      <td>0</td>\n",
       "      <td>0</td>\n",
       "      <td>0</td>\n",
       "      <td>...</td>\n",
       "      <td>0</td>\n",
       "      <td>0</td>\n",
       "      <td>0</td>\n",
       "      <td>0</td>\n",
       "      <td>0</td>\n",
       "      <td>0</td>\n",
       "      <td>0</td>\n",
       "      <td>0</td>\n",
       "      <td>0</td>\n",
       "      <td>9.036353</td>\n",
       "    </tr>\n",
       "    <tr>\n",
       "      <th>2</th>\n",
       "      <td>PH201700000003</td>\n",
       "      <td>-57647.047619</td>\n",
       "      <td>2</td>\n",
       "      <td>1244</td>\n",
       "      <td>14</td>\n",
       "      <td>1</td>\n",
       "      <td>0</td>\n",
       "      <td>0</td>\n",
       "      <td>0</td>\n",
       "      <td>0</td>\n",
       "      <td>...</td>\n",
       "      <td>0</td>\n",
       "      <td>0</td>\n",
       "      <td>0</td>\n",
       "      <td>0</td>\n",
       "      <td>0</td>\n",
       "      <td>0</td>\n",
       "      <td>0</td>\n",
       "      <td>0</td>\n",
       "      <td>0</td>\n",
       "      <td>4.830000</td>\n",
       "    </tr>\n",
       "    <tr>\n",
       "      <th>3</th>\n",
       "      <td>PH201700000004</td>\n",
       "      <td>-54952.666667</td>\n",
       "      <td>3</td>\n",
       "      <td>25</td>\n",
       "      <td>12</td>\n",
       "      <td>0</td>\n",
       "      <td>0</td>\n",
       "      <td>0</td>\n",
       "      <td>0</td>\n",
       "      <td>0</td>\n",
       "      <td>...</td>\n",
       "      <td>0</td>\n",
       "      <td>0</td>\n",
       "      <td>0</td>\n",
       "      <td>0</td>\n",
       "      <td>0</td>\n",
       "      <td>0</td>\n",
       "      <td>0</td>\n",
       "      <td>0</td>\n",
       "      <td>0</td>\n",
       "      <td>0.000000</td>\n",
       "    </tr>\n",
       "    <tr>\n",
       "      <th>4</th>\n",
       "      <td>PH201700000005</td>\n",
       "      <td>-77819.160000</td>\n",
       "      <td>4</td>\n",
       "      <td>0</td>\n",
       "      <td>0</td>\n",
       "      <td>0</td>\n",
       "      <td>0</td>\n",
       "      <td>0</td>\n",
       "      <td>0</td>\n",
       "      <td>0</td>\n",
       "      <td>...</td>\n",
       "      <td>0</td>\n",
       "      <td>0</td>\n",
       "      <td>0</td>\n",
       "      <td>0</td>\n",
       "      <td>0</td>\n",
       "      <td>0</td>\n",
       "      <td>0</td>\n",
       "      <td>0</td>\n",
       "      <td>0</td>\n",
       "      <td>0.000000</td>\n",
       "    </tr>\n",
       "  </tbody>\n",
       "</table>\n",
       "<p>5 rows × 42 columns</p>\n",
       "</div>"
      ],
      "text/plain": [
       "            DHSID  Wealth Index  Unnamed: 0  building_ct  no_roads  \\\n",
       "0  PH201700000001 -31881.608696           0           20        23   \n",
       "1  PH201700000002  -2855.375000           1          250       105   \n",
       "2  PH201700000003 -57647.047619           2         1244        14   \n",
       "3  PH201700000004 -54952.666667           3           25        12   \n",
       "4  PH201700000005 -77819.160000           4            0         0   \n",
       "\n",
       "   no_primary_roads  no_trunk_roads  marketplace_count  \\\n",
       "0                 2               0                  0   \n",
       "1                 8               0                  0   \n",
       "2                 1               0                  0   \n",
       "3                 0               0                  0   \n",
       "4                 0               0                  0   \n",
       "\n",
       "   charging_station_count  post_box_count  ...  camp_site_count  city_count  \\\n",
       "0                       0               0  ...                0           0   \n",
       "1                       0               0  ...                0           0   \n",
       "2                       0               0  ...                0           0   \n",
       "3                       0               0  ...                0           0   \n",
       "4                       0               0  ...                0           0   \n",
       "\n",
       "   convenience_count  supermarket_count  car_repair_count  \\\n",
       "0                  0                  0                 0   \n",
       "1                  0                  0                 0   \n",
       "2                  0                  0                 0   \n",
       "3                  0                  0                 0   \n",
       "4                  0                  0                 0   \n",
       "\n",
       "   department_store_count  computer_count  playground_count  monument_count  \\\n",
       "0                       0               0                 0               0   \n",
       "1                       0               0                 0               0   \n",
       "2                       0               0                 0               0   \n",
       "3                       0               0                 0               0   \n",
       "4                       0               0                 0               0   \n",
       "\n",
       "   avg_d_mbps  \n",
       "0    0.765000  \n",
       "1    9.036353  \n",
       "2    4.830000  \n",
       "3    0.000000  \n",
       "4    0.000000  \n",
       "\n",
       "[5 rows x 42 columns]"
      ]
     },
     "execution_count": 27,
     "metadata": {},
     "output_type": "execute_result"
    }
   ],
   "source": [
    "final_df.head()"
   ]
  },
  {
   "cell_type": "code",
   "execution_count": null,
   "id": "5675ab98-1dab-4ae4-94ae-686dff0dbb0e",
   "metadata": {},
   "outputs": [],
   "source": []
  }
 ],
 "metadata": {
  "kernelspec": {
   "display_name": "Python 3 (ipykernel)",
   "language": "python",
   "name": "python3"
  },
  "language_info": {
   "codemirror_mode": {
    "name": "ipython",
    "version": 3
   },
   "file_extension": ".py",
   "mimetype": "text/x-python",
   "name": "python",
   "nbconvert_exporter": "python",
   "pygments_lexer": "ipython3",
   "version": "3.9.13"
  },
  "vscode": {
   "interpreter": {
    "hash": "de4c13bbf0ca3cd47c62934b7ea4a1b7ff8c7b06a4fccfd84b0786a2bd8d6f3c"
   }
  }
 },
 "nbformat": 4,
 "nbformat_minor": 5
}
