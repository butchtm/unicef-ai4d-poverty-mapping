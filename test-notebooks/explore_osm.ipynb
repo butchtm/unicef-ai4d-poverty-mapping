{
 "cells": [
  {
   "cell_type": "raw",
   "id": "86b17401-c0cb-4a8e-ba0c-44a6aab4a38c",
   "metadata": {},
   "source": [
    "---\n",
    "title: Explore OSM Test Data \n",
    "format:\n",
    "  html:\n",
    "    code-fold: false\n",
    "---"
   ]
  },
  {
   "cell_type": "markdown",
   "id": "993b7544-dbb2-4762-9270-825ebdca0a62",
   "metadata": {
    "tags": []
   },
   "source": [
    "> exploration of the sample OSM data in `test_data/inputs/tl/osm_tl`"
   ]
  },
  {
   "cell_type": "code",
   "execution_count": 1,
   "id": "c2b67124-951b-4675-bb47-76ef61578a89",
   "metadata": {
    "tags": []
   },
   "outputs": [],
   "source": [
    "%reload_ext autoreload\n",
    "%autoreload 2"
   ]
  },
  {
   "cell_type": "code",
   "execution_count": 2,
   "id": "c3f9a246-e3d7-4f25-8f01-012bafd64a1f",
   "metadata": {},
   "outputs": [],
   "source": [
    "import pandas as pd\n",
    "import geopandas as gpd\n",
    "from types import SimpleNamespace"
   ]
  },
  {
   "cell_type": "code",
   "execution_count": 3,
   "id": "98331472-4d60-4468-b8c9-767ffcb228b4",
   "metadata": {},
   "outputs": [],
   "source": [
    "import povertymapping.osm_data_proc as posm"
   ]
  },
  {
   "cell_type": "code",
   "execution_count": 4,
   "id": "7fcd2936-832a-49d8-b678-8356801c4135",
   "metadata": {},
   "outputs": [],
   "source": [
    "import sys\n",
    "import os"
   ]
  },
  {
   "cell_type": "markdown",
   "id": "0dc2365e-5197-4914-9d6d-a31c2e7316de",
   "metadata": {
    "tags": []
   },
   "source": [
    "### Configuration \n",
    "> setup a  configuration object (which can be dictionary or any dict-like object)"
   ]
  },
  {
   "cell_type": "markdown",
   "id": "881505c7-55c8-4b82-945d-c074d783cce4",
   "metadata": {},
   "source": [
    "The dhs configuration assumes a file structure like the following:\n",
    "\n",
    "* These output files will be created\n",
    "\n",
    "```\n",
    "+ \n",
    "+save_path +\n",
    "           + <dhs_geo_zip_folder>_cluster_coords_osm_agg.csv  # the preprocessed OSM dataset \n",
    "                                                              # filename format: \n",
    "                                                              # e.g. TLGE71FL_coords_clust_osm_agg.csv\n",
    "```"
   ]
  },
  {
   "cell_type": "markdown",
   "id": "beb1eade-d86e-4000-93d1-c32fe8ae0ad9",
   "metadata": {},
   "source": [
    "* The input files are required:\n",
    "\n",
    "```\n",
    "+\n",
    "+repo_path +\n",
    "           + data_dir +\n",
    "                      + osm_folder +\n",
    "                                     + \"shape\" +\n",
    "                                               + <osm_shp_filename> # name of folder \n",
    "                                                                    # holding the osm shape file \n",
    "                                                                    # e.g. east-timor-latest-free.shp\n",
    "                                     + \"pbf\" +\n",
    "                                             + <osm_pbf_filename> # name of osm pbf file \n",
    "                                                                  # (set 'use_pbf=True' to use)\n",
    "                                                                  # e.g. east-timor-latest.osm.pbf\n",
    "+save_path +\n",
    "           + <dhs_geo_zip_folder>_cluster_coords.csv # the geotagged cluster data \n",
    "                                                     # created by process_dhs_data \n",
    "                                                     # for the given country\n",
    "                                                     # the dhs_geo_zip_folder should \n",
    "                                                     # be the same as the one set\n",
    "                                                     # for the config for dhs_process_data\n",
    "        \n",
    "```"
   ]
  },
  {
   "cell_type": "code",
   "execution_count": 5,
   "id": "2e6b8328-40c5-4454-aa7d-79e27446d5e0",
   "metadata": {},
   "outputs": [],
   "source": [
    "args = SimpleNamespace(slice_interval=\"[0,100]\")\n",
    "\n",
    "osm_config = dict(\n",
    "        save_path=\"../test_data/test_outputs/osm\",\n",
    "        repo_path=\"../test_data/inputs\",\n",
    "        data_dir=\"tl\", # input dir folder (usually country)\n",
    "        country=\"tl\", # country\n",
    "        dhs_folder=\"dhs_tl\", # dhs folder\n",
    "        dhs_geo_zip_folder=\"TLGE71FL\", # folder holding DHS shape files\n",
    "        use_pbf=False,\n",
    "        multiprocess=False,\n",
    "        args=args,\n",
    "        osm_country=\"tl\",\n",
    "        osm_folder=\"osm_tl\",\n",
    "        sample=False,\n",
    "        no_samples=60,\n",
    "        random_sample=False,\n",
    "        random_seed=42,\n",
    "        buffer_side_length=4.0,\n",
    "        crs=\"4683\",\n",
    "        osm_shp_filename=\"east-timor-latest-free.shp\",\n",
    "        osm_pbf_filename=\"east-timor-latest.osm.pbf\",\n",
    "        clust_rad=2000\n",
    "\n",
    "    )\n",
    "\n",
    "# you can also create a yaml file or json file\n",
    "# and load it in."
   ]
  },
  {
   "cell_type": "markdown",
   "id": "5eaba4d5-5f28-49ae-8fa0-fe6fc4babfcc",
   "metadata": {},
   "source": [
    "Run the `process_osm_data`, passing your config object"
   ]
  },
  {
   "cell_type": "code",
   "execution_count": 6,
   "id": "13a81482-d738-494b-9a1b-6725373b7493",
   "metadata": {},
   "outputs": [],
   "source": [
    "# uncomment and run the following to clear out the preprocessed files \n",
    "!rm -rf {osm_config['save_path']}\n",
    "!mkdir -p {osm_config['save_path']}"
   ]
  },
  {
   "cell_type": "code",
   "execution_count": 7,
   "id": "de60847e-d52f-438e-8ef9-9b5013516f2f",
   "metadata": {
    "tags": []
   },
   "outputs": [],
   "source": [
    "!cp ../data/outputs/dhs_{osm_config['country']}/{osm_config['dhs_geo_zip_folder']}_cluster_coords.csv {osm_config['save_path']}/."
   ]
  },
  {
   "cell_type": "code",
   "execution_count": 8,
   "id": "2b0e3f5f-f368-4377-88e8-712a6986a2dc",
   "metadata": {},
   "outputs": [
    {
     "name": "stdout",
     "output_type": "stream",
     "text": [
      "\n",
      "Loading osm shape files by layer...\n",
      "This might take a while...\n",
      "\n"
     ]
    },
    {
     "name": "stderr",
     "output_type": "stream",
     "text": [
      "100%|█████████████████████████████████████████████████████████████████████████████| 455/455 [01:26<00:00,  5.24it/s]\n"
     ]
    },
    {
     "name": "stdout",
     "output_type": "stream",
     "text": [
      "Saving aggregate dataframe...\n",
      "CPU times: user 1min 29s, sys: 2.66 s, total: 1min 32s\n",
      "Wall time: 1min 32s\n"
     ]
    }
   ],
   "source": [
    "%%time\n",
    "posm.process_osm_data(osm_config)"
   ]
  },
  {
   "cell_type": "markdown",
   "id": "30db0c2e-7f9a-4c51-a521-5f170d9e8cdd",
   "metadata": {},
   "source": [
    "Check that the preprocessed files have been created"
   ]
  },
  {
   "cell_type": "code",
   "execution_count": 9,
   "id": "e210f464-7532-4c12-91ae-f13f6f4c78ee",
   "metadata": {},
   "outputs": [],
   "source": [
    "from pathlib import Path"
   ]
  },
  {
   "cell_type": "code",
   "execution_count": 10,
   "id": "7cce4748-b7a4-49e5-b28a-23accb54be27",
   "metadata": {},
   "outputs": [],
   "source": [
    "posm_df_path = Path(osm_config['save_path'])/f'{osm_config[\"dhs_geo_zip_folder\"]}_cluster_coords_osm_agg.csv'"
   ]
  },
  {
   "cell_type": "code",
   "execution_count": 11,
   "id": "7afdd7b7-192d-4406-a86a-e8ddbb175138",
   "metadata": {},
   "outputs": [],
   "source": [
    "posm_df = pd.read_csv(posm_df_path)"
   ]
  },
  {
   "cell_type": "code",
   "execution_count": 12,
   "id": "904a7e47-127e-4cea-98dc-6d5937580be3",
   "metadata": {},
   "outputs": [
    {
     "data": {
      "text/plain": [
       "455"
      ]
     },
     "execution_count": 12,
     "metadata": {},
     "output_type": "execute_result"
    }
   ],
   "source": [
    "len(posm_df)"
   ]
  },
  {
   "cell_type": "code",
   "execution_count": 13,
   "id": "ca45a167-24fd-4494-be52-5642e39076c3",
   "metadata": {},
   "outputs": [
    {
     "data": {
      "text/html": [
       "<div>\n",
       "<style scoped>\n",
       "    .dataframe tbody tr th:only-of-type {\n",
       "        vertical-align: middle;\n",
       "    }\n",
       "\n",
       "    .dataframe tbody tr th {\n",
       "        vertical-align: top;\n",
       "    }\n",
       "\n",
       "    .dataframe thead th {\n",
       "        text-align: right;\n",
       "    }\n",
       "</style>\n",
       "<table border=\"1\" class=\"dataframe\">\n",
       "  <thead>\n",
       "    <tr style=\"text-align: right;\">\n",
       "      <th></th>\n",
       "      <th>Unnamed: 0</th>\n",
       "      <th>longitude</th>\n",
       "      <th>latitude</th>\n",
       "      <th>building_ct</th>\n",
       "      <th>no_roads</th>\n",
       "      <th>no_primary_roads</th>\n",
       "      <th>no_trunk_roads</th>\n",
       "      <th>marketplace_count</th>\n",
       "      <th>charging_station_count</th>\n",
       "      <th>post_box_count</th>\n",
       "      <th>...</th>\n",
       "      <th>camp_site_count</th>\n",
       "      <th>city_count</th>\n",
       "      <th>convenience_count</th>\n",
       "      <th>supermarket_count</th>\n",
       "      <th>car_repair_count</th>\n",
       "      <th>department_store_count</th>\n",
       "      <th>computer_count</th>\n",
       "      <th>playground_count</th>\n",
       "      <th>monument_count</th>\n",
       "      <th>DHSID</th>\n",
       "    </tr>\n",
       "  </thead>\n",
       "  <tbody>\n",
       "    <tr>\n",
       "      <th>0</th>\n",
       "      <td>0</td>\n",
       "      <td>125.567381</td>\n",
       "      <td>-8.712016</td>\n",
       "      <td>161</td>\n",
       "      <td>84</td>\n",
       "      <td>3</td>\n",
       "      <td>0</td>\n",
       "      <td>0</td>\n",
       "      <td>0</td>\n",
       "      <td>0</td>\n",
       "      <td>...</td>\n",
       "      <td>0</td>\n",
       "      <td>0</td>\n",
       "      <td>0</td>\n",
       "      <td>0</td>\n",
       "      <td>0</td>\n",
       "      <td>0</td>\n",
       "      <td>0</td>\n",
       "      <td>0</td>\n",
       "      <td>0</td>\n",
       "      <td>TL201600000001</td>\n",
       "    </tr>\n",
       "    <tr>\n",
       "      <th>1</th>\n",
       "      <td>1</td>\n",
       "      <td>125.590219</td>\n",
       "      <td>-8.730226</td>\n",
       "      <td>29</td>\n",
       "      <td>33</td>\n",
       "      <td>0</td>\n",
       "      <td>0</td>\n",
       "      <td>0</td>\n",
       "      <td>0</td>\n",
       "      <td>0</td>\n",
       "      <td>...</td>\n",
       "      <td>0</td>\n",
       "      <td>0</td>\n",
       "      <td>0</td>\n",
       "      <td>0</td>\n",
       "      <td>0</td>\n",
       "      <td>0</td>\n",
       "      <td>0</td>\n",
       "      <td>0</td>\n",
       "      <td>0</td>\n",
       "      <td>TL201600000002</td>\n",
       "    </tr>\n",
       "    <tr>\n",
       "      <th>2</th>\n",
       "      <td>2</td>\n",
       "      <td>125.556399</td>\n",
       "      <td>-8.741340</td>\n",
       "      <td>71</td>\n",
       "      <td>73</td>\n",
       "      <td>5</td>\n",
       "      <td>0</td>\n",
       "      <td>0</td>\n",
       "      <td>0</td>\n",
       "      <td>0</td>\n",
       "      <td>...</td>\n",
       "      <td>0</td>\n",
       "      <td>0</td>\n",
       "      <td>0</td>\n",
       "      <td>0</td>\n",
       "      <td>0</td>\n",
       "      <td>0</td>\n",
       "      <td>0</td>\n",
       "      <td>0</td>\n",
       "      <td>0</td>\n",
       "      <td>TL201600000003</td>\n",
       "    </tr>\n",
       "    <tr>\n",
       "      <th>3</th>\n",
       "      <td>3</td>\n",
       "      <td>125.535161</td>\n",
       "      <td>-8.811291</td>\n",
       "      <td>0</td>\n",
       "      <td>13</td>\n",
       "      <td>0</td>\n",
       "      <td>0</td>\n",
       "      <td>0</td>\n",
       "      <td>0</td>\n",
       "      <td>0</td>\n",
       "      <td>...</td>\n",
       "      <td>0</td>\n",
       "      <td>0</td>\n",
       "      <td>0</td>\n",
       "      <td>0</td>\n",
       "      <td>0</td>\n",
       "      <td>0</td>\n",
       "      <td>0</td>\n",
       "      <td>0</td>\n",
       "      <td>0</td>\n",
       "      <td>TL201600000004</td>\n",
       "    </tr>\n",
       "    <tr>\n",
       "      <th>4</th>\n",
       "      <td>4</td>\n",
       "      <td>125.473219</td>\n",
       "      <td>-8.791590</td>\n",
       "      <td>0</td>\n",
       "      <td>10</td>\n",
       "      <td>0</td>\n",
       "      <td>0</td>\n",
       "      <td>0</td>\n",
       "      <td>0</td>\n",
       "      <td>0</td>\n",
       "      <td>...</td>\n",
       "      <td>0</td>\n",
       "      <td>0</td>\n",
       "      <td>0</td>\n",
       "      <td>0</td>\n",
       "      <td>0</td>\n",
       "      <td>0</td>\n",
       "      <td>0</td>\n",
       "      <td>0</td>\n",
       "      <td>0</td>\n",
       "      <td>TL201600000005</td>\n",
       "    </tr>\n",
       "  </tbody>\n",
       "</table>\n",
       "<p>5 rows × 42 columns</p>\n",
       "</div>"
      ],
      "text/plain": [
       "   Unnamed: 0   longitude  latitude  building_ct  no_roads  no_primary_roads  \\\n",
       "0           0  125.567381 -8.712016          161        84                 3   \n",
       "1           1  125.590219 -8.730226           29        33                 0   \n",
       "2           2  125.556399 -8.741340           71        73                 5   \n",
       "3           3  125.535161 -8.811291            0        13                 0   \n",
       "4           4  125.473219 -8.791590            0        10                 0   \n",
       "\n",
       "   no_trunk_roads  marketplace_count  charging_station_count  post_box_count  \\\n",
       "0               0                  0                       0               0   \n",
       "1               0                  0                       0               0   \n",
       "2               0                  0                       0               0   \n",
       "3               0                  0                       0               0   \n",
       "4               0                  0                       0               0   \n",
       "\n",
       "   ...  camp_site_count  city_count  convenience_count  supermarket_count  \\\n",
       "0  ...                0           0                  0                  0   \n",
       "1  ...                0           0                  0                  0   \n",
       "2  ...                0           0                  0                  0   \n",
       "3  ...                0           0                  0                  0   \n",
       "4  ...                0           0                  0                  0   \n",
       "\n",
       "   car_repair_count  department_store_count  computer_count  playground_count  \\\n",
       "0                 0                       0               0                 0   \n",
       "1                 0                       0               0                 0   \n",
       "2                 0                       0               0                 0   \n",
       "3                 0                       0               0                 0   \n",
       "4                 0                       0               0                 0   \n",
       "\n",
       "   monument_count           DHSID  \n",
       "0               0  TL201600000001  \n",
       "1               0  TL201600000002  \n",
       "2               0  TL201600000003  \n",
       "3               0  TL201600000004  \n",
       "4               0  TL201600000005  \n",
       "\n",
       "[5 rows x 42 columns]"
      ]
     },
     "execution_count": 13,
     "metadata": {},
     "output_type": "execute_result"
    }
   ],
   "source": [
    "posm_df.head()"
   ]
  }
 ],
 "metadata": {
  "kernelspec": {
   "display_name": "Python 3 (ipykernel)",
   "language": "python",
   "name": "python3"
  },
  "language_info": {
   "codemirror_mode": {
    "name": "ipython",
    "version": 3
   },
   "file_extension": ".py",
   "mimetype": "text/x-python",
   "name": "python",
   "nbconvert_exporter": "python",
   "pygments_lexer": "ipython3",
   "version": "3.9.13"
  },
  "vscode": {
   "interpreter": {
    "hash": "de4c13bbf0ca3cd47c62934b7ea4a1b7ff8c7b06a4fccfd84b0786a2bd8d6f3c"
   }
  }
 },
 "nbformat": 4,
 "nbformat_minor": 5
}
