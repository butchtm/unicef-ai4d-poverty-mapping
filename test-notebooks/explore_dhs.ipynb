{
 "cells": [
  {
   "cell_type": "markdown",
   "id": "993b7544-dbb2-4762-9270-825ebdca0a62",
   "metadata": {
    "tags": []
   },
   "source": [
    "# Explore DHS Test data \n",
    "> exploration of the sample dhs data in `test_data/inputs/ph/dhs_ph`\n",
    "\n",
    "**Note**: the data for testing/playing around with dhs test data does not contain the actual Philippine data but is only made available for testing"
   ]
  },
  {
   "cell_type": "code",
   "execution_count": 25,
   "id": "c2b67124-951b-4675-bb47-76ef61578a89",
   "metadata": {
    "tags": []
   },
   "outputs": [],
   "source": [
    "%reload_ext autoreload\n",
    "%autoreload 2"
   ]
  },
  {
   "cell_type": "code",
   "execution_count": 5,
   "id": "c3f9a246-e3d7-4f25-8f01-012bafd64a1f",
   "metadata": {},
   "outputs": [],
   "source": [
    "import pandas as pd"
   ]
  },
  {
   "cell_type": "code",
   "execution_count": 6,
   "id": "98331472-4d60-4468-b8c9-767ffcb228b4",
   "metadata": {},
   "outputs": [],
   "source": [
    "import povertymapping.dhs_data_proc as pdhs"
   ]
  },
  {
   "cell_type": "code",
   "execution_count": 7,
   "id": "7fcd2936-832a-49d8-b678-8356801c4135",
   "metadata": {},
   "outputs": [],
   "source": [
    "import sys"
   ]
  },
  {
   "cell_type": "markdown",
   "id": "0dc2365e-5197-4914-9d6d-a31c2e7316de",
   "metadata": {
    "tags": []
   },
   "source": [
    "### Configuration \n",
    "> setup a  configuration object (which can be dictionary or any dict-like object)"
   ]
  },
  {
   "cell_type": "markdown",
   "id": "09c2c295-cd3d-435f-96f2-817bd7463999",
   "metadata": {},
   "source": [
    "The dhs configuration assumes a file structure like the following:\n",
    "\n",
    "* These output files will be created\n",
    "\n",
    "```\n",
    "+ \n",
    "+save_path +\n",
    "           + <dhs_zip_folder>_raw.csv  # the raw dhs data as a csv file (incl. wealth index)\n",
    "           + <dhs_zip_folder>_base.csv # the raw dhs data with renamed column names (incl. weath index)\n",
    "           + <dhs_geo_zip_folder>_cluster_coords.csv # the geotagged cluster data\n",
    "           + <dhs_zip_folder>_<dhs_geo_zip_folder>_by_cluster.csv # the geotagged dhs cluster wealth index  \n",
    "           + <dhs_zip_folder>_<dhs_geo_zip_folder>_by_cluster.geojson  # the geotagged dhs cluster wealth index as a geojson file\n",
    "```\n",
    "\n",
    "\n",
    "* The input files are required:\n",
    "\n",
    "```\n",
    "+\n",
    "+repo_path +\n",
    "           + data_dir +\n",
    "                      + dhs_folder +\n",
    "                                   + dhs_zip_folder +\n",
    "                                                    + dhs_file  # name of the '.DTA' stata file containing DHS data\n",
    "                                   + dhs_geo_zip_folder +\n",
    "                                                        + dhs_geo_file # name of the '.shp' shape file containing the geotagged DHSCLUST ids\n",
    "```"
   ]
  },
  {
   "cell_type": "code",
   "execution_count": 29,
   "id": "2e6b8328-40c5-4454-aa7d-79e27446d5e0",
   "metadata": {},
   "outputs": [],
   "source": [
    "dhs_config = dict(\n",
    "        save_path=\"../test_data/outputs/dhs\", # where the output datasets will be written\n",
    "        repo_path=\"../test_data\", # the base path of the input files\n",
    "        data_dir=\"inputs\", # the folder\n",
    "        dhs_folder=\"ph\",\n",
    "        dhs_zip_folder=\"dhs_ph\",\n",
    "        dhs_file=\"ph.DTA\",\n",
    "        country=\"ph\",\n",
    "        dhs_geo_zip_folder=\"dhs_ph\",\n",
    "        dhs_geo_file=\"ph_gps.shp\",\n",
    "    )\n",
    "# you can also create a yaml file or json file\n",
    "# and load it in."
   ]
  },
  {
   "cell_type": "markdown",
   "id": "5eaba4d5-5f28-49ae-8fa0-fe6fc4babfcc",
   "metadata": {},
   "source": [
    "Run the `process_dhs_data`, passing your config object"
   ]
  },
  {
   "cell_type": "code",
   "execution_count": 31,
   "id": "13a81482-d738-494b-9a1b-6725373b7493",
   "metadata": {},
   "outputs": [],
   "source": [
    "# uncomment and run the following to clear out the preprocessed files \n",
    "!rm -rf {dhs_config['save_path']}"
   ]
  },
  {
   "cell_type": "code",
   "execution_count": 32,
   "id": "2b0e3f5f-f368-4377-88e8-712a6986a2dc",
   "metadata": {},
   "outputs": [
    {
     "name": "stdout",
     "output_type": "stream",
     "text": [
      "Data Dimensions: (1000, 15)\n",
      "Data Dimensions: (679, 1)\n",
      "CPU times: user 238 ms, sys: 0 ns, total: 238 ms\n",
      "Wall time: 237 ms\n"
     ]
    },
    {
     "name": "stderr",
     "output_type": "stream",
     "text": [
      "/home/butchtm/work/povmap/unicef-ai4d-poverty-mapping/env/lib/python3.9/site-packages/geopandas/io/file.py:362: FutureWarning: pandas.Int64Index is deprecated and will be removed from pandas in a future version. Use pandas.Index with the appropriate dtype instead.\n",
      "  pd.Int64Index,\n"
     ]
    }
   ],
   "source": [
    "%%time\n",
    "pdhs.process_dhs_data(dhs_config)"
   ]
  },
  {
   "cell_type": "markdown",
   "id": "30db0c2e-7f9a-4c51-a521-5f170d9e8cdd",
   "metadata": {},
   "source": [
    "Check that the preprocessed files have been created"
   ]
  },
  {
   "cell_type": "code",
   "execution_count": 33,
   "id": "292b0cf9-eb7b-4db0-87c5-81671cba390d",
   "metadata": {},
   "outputs": [],
   "source": [
    "dhs_df = pd.read_csv(Path(dhs_config['save_path'])/'dhs_ph_base.csv')"
   ]
  },
  {
   "cell_type": "code",
   "execution_count": 34,
   "id": "4d203d99-d7a2-4a72-9b6b-5b8ba6a54872",
   "metadata": {},
   "outputs": [],
   "source": [
    "gdf = gpd.read_file(Path(dhs_config['save_path'])/'dhs_ph_dhs_ph_by_cluster.geojson')"
   ]
  },
  {
   "cell_type": "code",
   "execution_count": 35,
   "id": "3bebee66-1d65-4c63-9e59-d6900a600577",
   "metadata": {},
   "outputs": [
    {
     "data": {
      "text/html": [
       "<div>\n",
       "<style scoped>\n",
       "    .dataframe tbody tr th:only-of-type {\n",
       "        vertical-align: middle;\n",
       "    }\n",
       "\n",
       "    .dataframe tbody tr th {\n",
       "        vertical-align: top;\n",
       "    }\n",
       "\n",
       "    .dataframe thead th {\n",
       "        text-align: right;\n",
       "    }\n",
       "</style>\n",
       "<table border=\"1\" class=\"dataframe\">\n",
       "  <thead>\n",
       "    <tr style=\"text-align: right;\">\n",
       "      <th></th>\n",
       "      <th>DHSCLUST</th>\n",
       "      <th>Wealth Index</th>\n",
       "      <th>Unnamed_ 0</th>\n",
       "      <th>DHSID</th>\n",
       "      <th>DHSCC</th>\n",
       "      <th>DHSYEAR</th>\n",
       "      <th>LATNUM</th>\n",
       "      <th>LONGNUM</th>\n",
       "      <th>geometry</th>\n",
       "    </tr>\n",
       "  </thead>\n",
       "  <tbody>\n",
       "    <tr>\n",
       "      <th>0</th>\n",
       "      <td>3</td>\n",
       "      <td>-232188.0</td>\n",
       "      <td>357</td>\n",
       "      <td>PH20XX003</td>\n",
       "      <td>PH</td>\n",
       "      <td>0</td>\n",
       "      <td>0.609945</td>\n",
       "      <td>0.350830</td>\n",
       "      <td>POINT (0.35083 0.60995)</td>\n",
       "    </tr>\n",
       "    <tr>\n",
       "      <th>1</th>\n",
       "      <td>4</td>\n",
       "      <td>228860.0</td>\n",
       "      <td>868</td>\n",
       "      <td>PH20XX004</td>\n",
       "      <td>PH</td>\n",
       "      <td>0</td>\n",
       "      <td>0.363843</td>\n",
       "      <td>0.281563</td>\n",
       "      <td>POINT (0.28156 0.36384)</td>\n",
       "    </tr>\n",
       "    <tr>\n",
       "      <th>2</th>\n",
       "      <td>5</td>\n",
       "      <td>157620.0</td>\n",
       "      <td>436</td>\n",
       "      <td>PH20XX005</td>\n",
       "      <td>PH</td>\n",
       "      <td>0</td>\n",
       "      <td>0.715438</td>\n",
       "      <td>0.145014</td>\n",
       "      <td>POINT (0.14501 0.71544)</td>\n",
       "    </tr>\n",
       "    <tr>\n",
       "      <th>3</th>\n",
       "      <td>6</td>\n",
       "      <td>40308.5</td>\n",
       "      <td>492</td>\n",
       "      <td>PH20XX006</td>\n",
       "      <td>PH</td>\n",
       "      <td>0</td>\n",
       "      <td>0.758501</td>\n",
       "      <td>0.628373</td>\n",
       "      <td>POINT (0.62837 0.75850)</td>\n",
       "    </tr>\n",
       "    <tr>\n",
       "      <th>4</th>\n",
       "      <td>7</td>\n",
       "      <td>-37595.5</td>\n",
       "      <td>526</td>\n",
       "      <td>PH20XX007</td>\n",
       "      <td>PH</td>\n",
       "      <td>0</td>\n",
       "      <td>0.095306</td>\n",
       "      <td>0.661080</td>\n",
       "      <td>POINT (0.66108 0.09531)</td>\n",
       "    </tr>\n",
       "  </tbody>\n",
       "</table>\n",
       "</div>"
      ],
      "text/plain": [
       "   DHSCLUST  Wealth Index  Unnamed_ 0      DHSID DHSCC  DHSYEAR    LATNUM  \\\n",
       "0         3     -232188.0         357  PH20XX003    PH        0  0.609945   \n",
       "1         4      228860.0         868  PH20XX004    PH        0  0.363843   \n",
       "2         5      157620.0         436  PH20XX005    PH        0  0.715438   \n",
       "3         6       40308.5         492  PH20XX006    PH        0  0.758501   \n",
       "4         7      -37595.5         526  PH20XX007    PH        0  0.095306   \n",
       "\n",
       "    LONGNUM                 geometry  \n",
       "0  0.350830  POINT (0.35083 0.60995)  \n",
       "1  0.281563  POINT (0.28156 0.36384)  \n",
       "2  0.145014  POINT (0.14501 0.71544)  \n",
       "3  0.628373  POINT (0.62837 0.75850)  \n",
       "4  0.661080  POINT (0.66108 0.09531)  "
      ]
     },
     "execution_count": 35,
     "metadata": {},
     "output_type": "execute_result"
    }
   ],
   "source": [
    "gdf.head()"
   ]
  },
  {
   "cell_type": "code",
   "execution_count": 37,
   "id": "144c7304-c257-49a5-8a3b-51d67be7f5de",
   "metadata": {},
   "outputs": [
    {
     "data": {
      "text/plain": [
       "679"
      ]
     },
     "execution_count": 37,
     "metadata": {},
     "output_type": "execute_result"
    }
   ],
   "source": [
    "len(gdf)"
   ]
  },
  {
   "cell_type": "code",
   "execution_count": null,
   "id": "24204c34-7c56-4d18-b51e-2388e3867146",
   "metadata": {},
   "outputs": [],
   "source": []
  }
 ],
 "metadata": {
  "kernelspec": {
   "display_name": "Python 3 (ipykernel)",
   "language": "python",
   "name": "python3"
  },
  "language_info": {
   "codemirror_mode": {
    "name": "ipython",
    "version": 3
   },
   "file_extension": ".py",
   "mimetype": "text/x-python",
   "name": "python",
   "nbconvert_exporter": "python",
   "pygments_lexer": "ipython3",
   "version": "3.9.13"
  }
 },
 "nbformat": 4,
 "nbformat_minor": 5
}
