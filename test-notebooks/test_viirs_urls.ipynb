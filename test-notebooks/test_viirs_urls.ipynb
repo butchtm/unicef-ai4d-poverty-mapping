{
 "cells": [
  {
   "cell_type": "code",
   "execution_count": 1,
   "id": "0b3c7f01-6522-4d6b-93c6-c4b9412d3a9a",
   "metadata": {},
   "outputs": [],
   "source": [
    "%reload_ext autoreload\n",
    "%autoreload 2"
   ]
  },
  {
   "cell_type": "code",
   "execution_count": 2,
   "id": "b617b763-7669-4f6a-995b-9eeba67f87f2",
   "metadata": {},
   "outputs": [],
   "source": [
    "from povertymapping.nightlights import *"
   ]
  },
  {
   "cell_type": "markdown",
   "id": "82e3d264-d147-49e3-9c94-c633590ebe42",
   "metadata": {
    "tags": []
   },
   "source": [
    "## EOG Programmatic Access\n",
    "* ntlights metadata:  https://eogdata.mines.edu/products/vnl/\n",
    "* directory url:  https://eogdata.mines.edu/nighttime_light/annual/v21/\n",
    "* sample link (size 9.7GB):  https://eogdata.mines.edu/nighttime_light/annual/v21/2014/VNL_v21_npp_2014_global_vcmslcfg_c202205302300.average.dat.tif.gz\n",
    "* sample mask link (size 267 MB): https://eogdata.mines.edu/nighttime_light/annual/v21/2014/VNL_v21_npp_2014_global_vcmslcfg_c202205302300.average_masked.dat.tif.gz"
   ]
  },
  {
   "cell_type": "code",
   "execution_count": 8,
   "id": "277a2342-5dfb-4215-a25e-c643a8dd4319",
   "metadata": {},
   "outputs": [],
   "source": [
    "EXPECTED_URLS = {\n",
    "    '2012': 'https://eogdata.mines.edu/nighttime_light/annual/v21/2012/VNL_v21_npp_201204-201303_global_vcmcfg_c202205302300.average.dat.tif.gz',\n",
    "    '2013': 'https://eogdata.mines.edu/nighttime_light/annual/v21/2013/VNL_v21_npp_2013_global_vcmcfg_c202205302300.average.dat.tif.gz',\n",
    "    '2014': 'https://eogdata.mines.edu/nighttime_light/annual/v21/2014/VNL_v21_npp_2014_global_vcmslcfg_c202205302300.average.dat.tif.gz',\n",
    "    '2015': 'https://eogdata.mines.edu/nighttime_light/annual/v21/2015/VNL_v21_npp_2015_global_vcmslcfg_c202205302300.average.dat.tif.gz',\n",
    "    '2016': 'https://eogdata.mines.edu/nighttime_light/annual/v21/2016/VNL_v21_npp_2016_global_vcmslcfg_c202205302300.average.dat.tif.gz',\n",
    "    '2017': 'https://eogdata.mines.edu/nighttime_light/annual/v21/2017/VNL_v21_npp_2017_global_vcmslcfg_c202205302300.average.dat.tif.gz',\n",
    "    '2018': 'https://eogdata.mines.edu/nighttime_light/annual/v21/2018/VNL_v21_npp_2018_global_vcmslcfg_c202205302300.average.dat.tif.gz',\n",
    "    '2019': 'https://eogdata.mines.edu/nighttime_light/annual/v21/2019/VNL_v21_npp_2019_global_vcmslcfg_c202205302300.average.dat.tif.gz',\n",
    "    '2020': 'https://eogdata.mines.edu/nighttime_light/annual/v21/2020/VNL_v21_npp_2020_global_vcmslcfg_c202205302300.average.dat.tif.gz',\n",
    "    '2021': 'https://eogdata.mines.edu/nighttime_light/annual/v21/2021/VNL_v21_npp_2021_global_vcmslcfg_c202205302300.average.dat.tif.gz'\n",
    "}"
   ]
  },
  {
   "cell_type": "code",
   "execution_count": 9,
   "id": "3b1e3ef2-2be7-4152-a3ca-0deffa397608",
   "metadata": {},
   "outputs": [],
   "source": [
    "for year,expected_url in EXPECTED_URLS.items():\n",
    "    actual_url = make_url(year)\n",
    "    if actual_url != expected_url:\n",
    "        print(f'Unmatched URL for  {year}')\n",
    "        print(f'actual: {actual_url}')\n",
    "        print(f'expect: {expected_url}')"
   ]
  },
  {
   "cell_type": "code",
   "execution_count": 11,
   "id": "50d70875-393b-4f66-b6ec-3c48fda10fcc",
   "metadata": {},
   "outputs": [
    {
     "data": {
      "text/plain": [
       "'https://eogdata.mines.edu/nighttime_light/annual/v21/2014/VNL_v21_npp_2014_global_vcmslcfg_c202205302300.cvg.dat.tif.gz'"
      ]
     },
     "execution_count": 11,
     "metadata": {},
     "output_type": "execute_result"
    }
   ],
   "source": [
    "make_url(2014,viirs_data_type=EOG_VIIRS_DATA_TYPE.CVG)"
   ]
  },
  {
   "cell_type": "code",
   "execution_count": 13,
   "id": "50bda274-168c-4944-92d3-873df81afbd5",
   "metadata": {},
   "outputs": [
    {
     "data": {
      "text/plain": [
       "namespace(VER21='v21')"
      ]
     },
     "execution_count": 13,
     "metadata": {},
     "output_type": "execute_result"
    }
   ],
   "source": [
    "EOG_PRODUCT_VERSION"
   ]
  },
  {
   "cell_type": "code",
   "execution_count": 14,
   "id": "dd825316-7d45-47f6-a99d-20ea8d50c25b",
   "metadata": {},
   "outputs": [
    {
     "data": {
      "text/plain": [
       "namespace(ANNUAL='annual')"
      ]
     },
     "execution_count": 14,
     "metadata": {},
     "output_type": "execute_result"
    }
   ],
   "source": [
    "EOG_PRODUCT"
   ]
  },
  {
   "cell_type": "code",
   "execution_count": 15,
   "id": "f2ace231-a853-47bf-acba-ce36a9b0889d",
   "metadata": {},
   "outputs": [
    {
     "data": {
      "text/plain": [
       "namespace(AVERAGE='average',\n",
       "          AVERAGE_MASKED='average_masked',\n",
       "          CF_CVG='cf_cvg',\n",
       "          CVG='cvg',\n",
       "          LIT_MASK='lit_mask',\n",
       "          MAXIMUM='maximum',\n",
       "          MEDIAN='median',\n",
       "          MEDIAN_MASKED='median_masked',\n",
       "          MINIMUM='minimum')"
      ]
     },
     "execution_count": 15,
     "metadata": {},
     "output_type": "execute_result"
    }
   ],
   "source": [
    "EOG_VIIRS_DATA_TYPE"
   ]
  },
  {
   "cell_type": "code",
   "execution_count": 17,
   "id": "e5f7c1dd-aa1d-4ac8-b98a-f1ab1ef3d9e2",
   "metadata": {},
   "outputs": [
    {
     "data": {
      "text/plain": [
       "namespace(GLOBAL='global')"
      ]
     },
     "execution_count": 17,
     "metadata": {},
     "output_type": "execute_result"
    }
   ],
   "source": [
    "EOG_COVERAGE"
   ]
  },
  {
   "cell_type": "code",
   "execution_count": 16,
   "id": "eec3fdd0-6541-47fd-afe3-04110d22b647",
   "metadata": {},
   "outputs": [
    {
     "data": {
      "text/plain": [
       "\u001b[0;31mSignature:\u001b[0m\n",
       "\u001b[0mmake_url\u001b[0m\u001b[0;34m(\u001b[0m\u001b[0;34m\u001b[0m\n",
       "\u001b[0;34m\u001b[0m    \u001b[0myear\u001b[0m\u001b[0;34m,\u001b[0m\u001b[0;34m\u001b[0m\n",
       "\u001b[0;34m\u001b[0m    \u001b[0mviirs_data_type\u001b[0m\u001b[0;34m=\u001b[0m\u001b[0;34m'average'\u001b[0m\u001b[0;34m,\u001b[0m\u001b[0;34m\u001b[0m\n",
       "\u001b[0;34m\u001b[0m    \u001b[0mntlights_base_url\u001b[0m\u001b[0;34m=\u001b[0m\u001b[0;34m'https://eogdata.mines.edu/nighttime_light'\u001b[0m\u001b[0;34m,\u001b[0m\u001b[0;34m\u001b[0m\n",
       "\u001b[0;34m\u001b[0m    \u001b[0mversion\u001b[0m\u001b[0;34m=\u001b[0m\u001b[0;34m'v21'\u001b[0m\u001b[0;34m,\u001b[0m\u001b[0;34m\u001b[0m\n",
       "\u001b[0;34m\u001b[0m    \u001b[0mproduct\u001b[0m\u001b[0;34m=\u001b[0m\u001b[0;34m'annual'\u001b[0m\u001b[0;34m,\u001b[0m\u001b[0;34m\u001b[0m\n",
       "\u001b[0;34m\u001b[0m    \u001b[0mcoverage\u001b[0m\u001b[0;34m=\u001b[0m\u001b[0;34m'global'\u001b[0m\u001b[0;34m,\u001b[0m\u001b[0;34m\u001b[0m\n",
       "\u001b[0;34m\u001b[0m\u001b[0;34m)\u001b[0m\u001b[0;34m\u001b[0m\u001b[0;34m\u001b[0m\u001b[0m\n",
       "\u001b[0;31mDocstring:\u001b[0m <no docstring>\n",
       "\u001b[0;31mFile:\u001b[0m      ~/work/povmap/unicef-ai4d-poverty-mapping/povertymapping/nightlights.py\n",
       "\u001b[0;31mType:\u001b[0m      function\n"
      ]
     },
     "metadata": {},
     "output_type": "display_data"
    }
   ],
   "source": [
    "make_url?"
   ]
  },
  {
   "cell_type": "code",
   "execution_count": null,
   "id": "ab5fa61e-31a0-461c-9a35-606b57358e07",
   "metadata": {},
   "outputs": [],
   "source": []
  }
 ],
 "metadata": {
  "kernelspec": {
   "display_name": "Python 3 (ipykernel)",
   "language": "python",
   "name": "python3"
  },
  "language_info": {
   "codemirror_mode": {
    "name": "ipython",
    "version": 3
   },
   "file_extension": ".py",
   "mimetype": "text/x-python",
   "name": "python",
   "nbconvert_exporter": "python",
   "pygments_lexer": "ipython3",
   "version": "3.9.13"
  }
 },
 "nbformat": 4,
 "nbformat_minor": 5
}
